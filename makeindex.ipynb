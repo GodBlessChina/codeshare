{
 "cells": [
  {
   "cell_type": "markdown",
   "id": "64772a40",
   "metadata": {},
   "source": [
    "# make index.html"
   ]
  },
  {
   "cell_type": "code",
   "execution_count": 5,
   "id": "d67ad55e",
   "metadata": {},
   "outputs": [
    {
     "name": "stdout",
     "output_type": "stream",
     "text": [
      "`第4次课xpath正则表达式获取网站内容 <https://godblesschina.github.io/codeshare/第4次课xpath正则表达式获取网站内容.html>`_\n",
      "`第五次课笔记 <https://godblesschina.github.io/codeshare/第五次课笔记.html>`_\n",
      "`第5次课获取动态网站内容 <https://godblesschina.github.io/codeshare/第5次课获取动态网站内容.html>`_\n",
      "`第三次课5班 <https://godblesschina.github.io/codeshare/第三次课5班.html>`_\n",
      "`第四次上课代码5班 <https://godblesschina.github.io/codeshare/第四次上课代码5班.html>`_\n",
      "`第二次课内容 <https://godblesschina.github.io/codeshare/第二次课内容.html>`_\n",
      "`第六次课爬取动态网站2 <https://godblesschina.github.io/codeshare/第六次课爬取动态网站2.html>`_\n",
      "`第二次上课代码7班 <https://godblesschina.github.io/codeshare/第二次上课代码7班.html>`_\n",
      "`第三次课内容 <https://godblesschina.github.io/codeshare/第三次课内容.html>`_\n",
      "`第二次课代码 <https://godblesschina.github.io/codeshare/第二次课代码.html>`_\n",
      "`第三次上课代码7班 <https://godblesschina.github.io/codeshare/第三次上课代码7班.html>`_\n",
      "`第二次上课代码6班 <https://godblesschina.github.io/codeshare/第二次上课代码6班.html>`_\n",
      "开始编译\n",
      "Running Sphinx v4.4.0\n",
      "loading pickled environment... done\n",
      "building [mo]: targets for 0 po files that are out of date\n",
      "building [html]: targets for 1 source files that are out of date\n",
      "updating environment: 0 added, 1 changed, 0 removed\n",
      "reading sources... [100%] index\n",
      "\n",
      "looking for now-outdated files... none found\n",
      "pickling environment... done\n",
      "checking consistency... done\n",
      "preparing documents... done\n",
      "writing output... [100%] index\n"
     ]
    },
    {
     "name": "stderr",
     "output_type": "stream",
     "text": [
      "/Users/nic/Desktop/codeshare/source/_index.rst: WARNING: document isn't included in any toctree\n"
     ]
    },
    {
     "name": "stdout",
     "output_type": "stream",
     "text": [
      "\n",
      "generating indices... genindex done\n",
      "writing additional pages... search done\n",
      "copying static files... done\n",
      "copying extra files... done\n",
      "dumping search index in English (code: en)... done\n",
      "dumping object inventory... done\n",
      "build succeeded, 1 warning.\n",
      "\n",
      "The HTML pages are in build/html.\n",
      "编译完成\n"
     ]
    }
   ],
   "source": [
    "import sys\n",
    "import os\n",
    "fnames = os.listdir(sys.path[0])\n",
    "fnames.remove('index.html')\n",
    "\n",
    "import time\n",
    "\n",
    "\n",
    "# hrefs\n",
    "hrefs = []\n",
    "\n",
    "for fname in fnames:\n",
    "    if fname.endswith('html'):\n",
    "        #print(fname)\n",
    "        href = fname.replace('.html','')\n",
    "        # Warning: `Watch this <http://www.youtube.com/watch?v=dQw4w9WgXcQ&ob=av3e>`_!\n",
    "        href = f\"\"\"`{href} <https://godblesschina.github.io/codeshare/{fname}>`_\"\"\"\n",
    "        hrefs.append(href)\n",
    "findexrstbac = open('source/_index.rst')\n",
    "findexrst = open('source/index.rst','w')\n",
    "s = findexrstbac.read()\n",
    "content = s.replace('replace','')\n",
    "#print(content)\n",
    "findexrst.write(content)\n",
    "for line in hrefs:\n",
    "    print(line)\n",
    "    findexrst.writelines(line+\"\\n\\n\\n\")\n",
    "    \n",
    "findexrstbac.close()\n",
    "findexrst.close()\n",
    "\n",
    "print('开始编译')\n",
    "os.system(\"make html\")\n",
    "print(\"编译完成\")"
   ]
  },
  {
   "cell_type": "code",
   "execution_count": null,
   "id": "dbda2d8b",
   "metadata": {},
   "outputs": [],
   "source": []
  },
  {
   "cell_type": "code",
   "execution_count": null,
   "id": "182ae0fb",
   "metadata": {},
   "outputs": [],
   "source": []
  }
 ],
 "metadata": {
  "kernelspec": {
   "display_name": "Python 3 (ipykernel)",
   "language": "python",
   "name": "python3"
  },
  "language_info": {
   "codemirror_mode": {
    "name": "ipython",
    "version": 3
   },
   "file_extension": ".py",
   "mimetype": "text/x-python",
   "name": "python",
   "nbconvert_exporter": "python",
   "pygments_lexer": "ipython3",
   "version": "3.9.2"
  }
 },
 "nbformat": 4,
 "nbformat_minor": 5
}
