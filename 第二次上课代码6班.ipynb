{
 "cells": [
  {
   "cell_type": "markdown",
   "id": "16664419",
   "metadata": {},
   "source": [
    "## numpy 授课代码"
   ]
  },
  {
   "cell_type": "code",
   "execution_count": 5,
   "id": "b809a3e5",
   "metadata": {},
   "outputs": [],
   "source": [
    "import numpy as np"
   ]
  },
  {
   "cell_type": "code",
   "execution_count": 6,
   "id": "465ca3bb",
   "metadata": {},
   "outputs": [],
   "source": [
    "a = np.array([1,2,3,4])\n",
    "b = np.array([[1,20], [5,3]])\n",
    "c = np.array([[[5,3],[2,1]], [[6,7],[9,2]]])"
   ]
  },
  {
   "cell_type": "code",
   "execution_count": 30,
   "id": "51e0e3a5",
   "metadata": {},
   "outputs": [
    {
     "name": "stdout",
     "output_type": "stream",
     "text": [
      "a的最大值4 ｜ b的最大值20 c的最大值9\n"
     ]
    }
   ],
   "source": [
    "print(f\"a的最大值{a.max()} ｜ b的最大值{b.max()} c的最大值{c.max()}\")"
   ]
  },
  {
   "cell_type": "code",
   "execution_count": 31,
   "id": "6464c051",
   "metadata": {},
   "outputs": [
    {
     "name": "stdout",
     "output_type": "stream",
     "text": [
      "a的最小值1 ｜ b的最小值1 c的最小值1\n"
     ]
    }
   ],
   "source": [
    "print(f\"a的最小值{a.min()} ｜ b的最小值{b.min()} c的最小值{c.min()}\")"
   ]
  },
  {
   "cell_type": "code",
   "execution_count": 20,
   "id": "509cbf43",
   "metadata": {},
   "outputs": [
    {
     "name": "stdout",
     "output_type": "stream",
     "text": [
      "(4,)\n",
      "(2, 2)\n",
      "(2, 2, 2)\n"
     ]
    }
   ],
   "source": [
    "print(a.shape) # shape形状，如果圆括号里有3个数，说明是3维的矩阵。\n",
    "print(b.shape)\n",
    "print(c.shape)"
   ]
  },
  {
   "cell_type": "code",
   "execution_count": 23,
   "id": "0083815b",
   "metadata": {},
   "outputs": [
    {
     "name": "stdout",
     "output_type": "stream",
     "text": [
      "<class 'numpy.ndarray'>\n"
     ]
    }
   ],
   "source": [
    "print(type(a)) # ndarray :  n dimension array: n维数组"
   ]
  },
  {
   "cell_type": "markdown",
   "id": "b0ee3e24",
   "metadata": {},
   "source": [
    "### 作业说明：\n",
    "##### 没有标准答案，但是代码可以衡量好坏，衡量标准：\n",
    "##### 1 时间复杂度\n",
    "##### 2 空间复杂度\n",
    "##### 3 书写规范：命名清晰准确符合语言规则，代码整洁 《代码整洁之道》"
   ]
  },
  {
   "cell_type": "code",
   "execution_count": 26,
   "id": "47b954a3",
   "metadata": {},
   "outputs": [
    {
     "name": "stdout",
     "output_type": "stream",
     "text": [
      "1 2 3\n"
     ]
    }
   ],
   "source": [
    "print(a.ndim, b.ndim, c.ndim) # ndim : n dimension n维"
   ]
  },
  {
   "cell_type": "code",
   "execution_count": 34,
   "id": "5a3affe5",
   "metadata": {},
   "outputs": [
    {
     "name": "stdout",
     "output_type": "stream",
     "text": [
      "4 4 8\n"
     ]
    }
   ],
   "source": [
    "print(a.size , b.size , c.size) # size大小：得到数组中元素的个数"
   ]
  },
  {
   "cell_type": "code",
   "execution_count": 54,
   "id": "caba0fc0",
   "metadata": {},
   "outputs": [
    {
     "name": "stdout",
     "output_type": "stream",
     "text": [
      "int8 int64\n",
      "a=[  1   2 127   4]\n"
     ]
    }
   ],
   "source": [
    "a = np.array([1,2,127,4],dtype='int8') # int8范围： -128~127   dtype='int8'指定数据类型为8个位的整数\n",
    "print(a.dtype,b.dtype) # dtype: data type 数据类型，数组中元素的数据类型\n",
    "print(f\"a={a}\")"
   ]
  },
  {
   "cell_type": "markdown",
   "id": "5fd88128",
   "metadata": {},
   "source": [
    "## numpy 创建n维数组"
   ]
  },
  {
   "cell_type": "code",
   "execution_count": 63,
   "id": "7e5c650f",
   "metadata": {},
   "outputs": [
    {
     "name": "stdout",
     "output_type": "stream",
     "text": [
      "[[0. 0. 0.]\n",
      " [0. 0. 0.]]\n"
     ]
    }
   ],
   "source": [
    "d = np.zeros((2,3)) # 创建了一个2维矩阵，用0填充\n",
    "print(d)"
   ]
  },
  {
   "cell_type": "code",
   "execution_count": 66,
   "id": "1c4db628",
   "metadata": {},
   "outputs": [
    {
     "name": "stdout",
     "output_type": "stream",
     "text": [
      "[[1. 1. 1. 1.]\n",
      " [1. 1. 1. 1.]\n",
      " [1. 1. 1. 1.]]\n"
     ]
    }
   ],
   "source": [
    "d = np.ones((3,4)) # 创建了一个2维矩阵，用1填充\n",
    "print(d)"
   ]
  },
  {
   "cell_type": "code",
   "execution_count": 71,
   "id": "b0149005",
   "metadata": {},
   "outputs": [
    {
     "name": "stdout",
     "output_type": "stream",
     "text": [
      "[[100 100 100 100 100]\n",
      " [100 100 100 100 100]\n",
      " [100 100 100 100 100]\n",
      " [100 100 100 100 100]\n",
      " [100 100 100 100 100]]\n"
     ]
    }
   ],
   "source": [
    "d = np.full((5,5) , 100) # 创建了一个2维矩阵，用10填满\n",
    "print(d)"
   ]
  },
  {
   "cell_type": "code",
   "execution_count": 74,
   "id": "b99faa1d",
   "metadata": {},
   "outputs": [
    {
     "name": "stdout",
     "output_type": "stream",
     "text": [
      "[[5 5 5 5 5]\n",
      " [5 5 5 5 5]\n",
      " [5 5 5 5 5]\n",
      " [5 5 5 5 5]\n",
      " [5 5 5 5 5]]\n"
     ]
    }
   ],
   "source": [
    "d1 = np.full_like(d,5) # like指的是像d的shape\n",
    "print(d1)"
   ]
  },
  {
   "cell_type": "markdown",
   "id": "a39c8015",
   "metadata": {},
   "source": [
    "## numpy 随机数/随机矩阵"
   ]
  },
  {
   "cell_type": "code",
   "execution_count": 159,
   "id": "50712777",
   "metadata": {},
   "outputs": [
    {
     "name": "stdout",
     "output_type": "stream",
     "text": [
      "[[0.62797201 0.10696749 0.04702019]\n",
      " [0.39218482 0.07141808 0.8426908 ]\n",
      " [0.40982573 0.78662572 0.80924801]]\n"
     ]
    }
   ],
   "source": [
    "d = np.random.rand(3,3)    # 创建一个随机(小数0～1)的矩阵，3x3\n",
    "print(d)"
   ]
  },
  {
   "cell_type": "code",
   "execution_count": 217,
   "id": "5517c4a8",
   "metadata": {},
   "outputs": [
    {
     "name": "stdout",
     "output_type": "stream",
     "text": [
      "2\n"
     ]
    }
   ],
   "source": [
    " # 产生了一个随机数,范围是 [1,9] 或 [1,10).. 如何得到一个随机的整数？骰子\n",
    " # 《计算机程序设计艺术》高德纳。 生成随机数。  伪随机\n",
    "d = np.random.randint(1,10)  \n",
    "print(d)"
   ]
  },
  {
   "cell_type": "code",
   "execution_count": 291,
   "id": "262041c6",
   "metadata": {},
   "outputs": [
    {
     "name": "stdout",
     "output_type": "stream",
     "text": [
      "[[4 1 1]\n",
      " [3 2 4]\n",
      " [4 0 0]]\n"
     ]
    }
   ],
   "source": [
    "d = np.random.randint(5, size=(3,3)) # 生成一个随机的二维矩阵，数字范围 0-4\n",
    "print(d)"
   ]
  },
  {
   "cell_type": "code",
   "execution_count": 313,
   "id": "4714e3de",
   "metadata": {},
   "outputs": [
    {
     "name": "stdout",
     "output_type": "stream",
     "text": [
      "[[1 2 4]\n",
      " [1 4 3]\n",
      " [1 2 4]]\n"
     ]
    }
   ],
   "source": [
    "d = np.random.randint(1,5, size=(3,3)) # 生成一个随机的二维矩阵，数字范围 1-4  ()圆括号是元组类型\n",
    "print(d)"
   ]
  },
  {
   "cell_type": "code",
   "execution_count": 318,
   "id": "d40c2abb",
   "metadata": {},
   "outputs": [
    {
     "name": "stdout",
     "output_type": "stream",
     "text": [
      "[[0.91667984 0.21671131 0.87056679 0.37716407 0.05187759]\n",
      " [0.82341433 0.55241154 0.54287287 0.91667294 0.08534548]\n",
      " [0.59712627 0.34105055 0.37626865 0.43414961 0.27433975]\n",
      " [0.63292811 0.49582586 0.09743218 0.89943159 0.32084477]\n",
      " [0.26122847 0.05422236 0.12827475 0.73738775 0.57180044]]\n"
     ]
    }
   ],
   "source": [
    "d1 = np.random.sample(d.shape)  # 按照d的shape创建一个新的随机矩阵\n",
    "print(d1)"
   ]
  },
  {
   "cell_type": "code",
   "execution_count": 320,
   "id": "c198a08c",
   "metadata": {},
   "outputs": [
    {
     "name": "stdout",
     "output_type": "stream",
     "text": [
      "[[2 1 3]\n",
      " [3 4 1]\n",
      " [3 4 4]]\n"
     ]
    }
   ],
   "source": [
    "d1 = np.random.randint(1,5, size=d.shape)\n",
    "print(d1)"
   ]
  },
  {
   "cell_type": "code",
   "execution_count": 330,
   "id": "963ebeaf",
   "metadata": {},
   "outputs": [
    {
     "name": "stdout",
     "output_type": "stream",
     "text": [
      "[[ 1 20]\n",
      " [ 5  3]]\n",
      "[ 1  1  1 20 20 20  5  5  5  3  3  3]\n"
     ]
    }
   ],
   "source": [
    "a = np.array([[1,20], [5,3]]) \n",
    "b = np.repeat(a,3)   # repeat重复： 把a中的元素全部取出来放到新的【一维】数组b中，重复3次\n",
    "print(a)\n",
    "print(b)"
   ]
  },
  {
   "cell_type": "code",
   "execution_count": 342,
   "id": "a3c64355",
   "metadata": {},
   "outputs": [
    {
     "name": "stdout",
     "output_type": "stream",
     "text": [
      "[[[5 3]\n",
      "  [2 1]]\n",
      "\n",
      " [[6 7]\n",
      "  [9 2]]]\n",
      "---------------------\n",
      "[[[5 5 5 3 3 3]\n",
      "  [2 2 2 1 1 1]]\n",
      "\n",
      " [[6 6 6 7 7 7]\n",
      "  [9 9 9 2 2 2]]]\n"
     ]
    }
   ],
   "source": [
    "a = np.array([[[5,3],[2,1]], [[6,7],[9,2]]])\n",
    "b = np.repeat(a,3,axis=2) # axis层级,这里a是3维矩阵，所以 axis=的最大值是2 ，axis=0, axis=1 axis=2\n",
    "print(a)\n",
    "print('---------------------')\n",
    "print(b)"
   ]
  },
  {
   "cell_type": "code",
   "execution_count": 351,
   "id": "54f8842d",
   "metadata": {},
   "outputs": [
    {
     "name": "stdout",
     "output_type": "stream",
     "text": [
      "[[1. 0. 0.]\n",
      " [0. 1. 0.]\n",
      " [0. 0. 1.]]\n"
     ]
    }
   ],
   "source": [
    "a = np.identity(3) # Identity Matrix : 单位矩阵 \n",
    "print(a)"
   ]
  },
  {
   "cell_type": "code",
   "execution_count": 376,
   "id": "e5919f37",
   "metadata": {},
   "outputs": [
    {
     "data": {
      "text/plain": [
       "array([3, 4, 5])"
      ]
     },
     "execution_count": 376,
     "metadata": {},
     "output_type": "execute_result"
    }
   ],
   "source": [
    "a = np.array([2,3,4,5,6])  # 截取矩阵\n",
    "a[1:-1]"
   ]
  },
  {
   "cell_type": "code",
   "execution_count": 370,
   "id": "151feb1b",
   "metadata": {},
   "outputs": [
    {
     "name": "stdout",
     "output_type": "stream",
     "text": [
      "[25 23]\n",
      "[25 23]\n"
     ]
    }
   ],
   "source": [
    "a = np.array([[11,12,13], [25,23,21]])  # 截取2维矩阵\n",
    "print(a[1][0:2])\n",
    "print(a[1,0:2])"
   ]
  },
  {
   "cell_type": "markdown",
   "id": "1def72d8",
   "metadata": {},
   "source": [
    "### 练习 生成一个符合图片说明的矩阵"
   ]
  },
  {
   "cell_type": "code",
   "execution_count": 379,
   "id": "99407c1f",
   "metadata": {},
   "outputs": [
    {
     "name": "stdout",
     "output_type": "stream",
     "text": [
      "[[1. 1. 1. 1. 1.]\n",
      " [1. 0. 0. 0. 1.]\n",
      " [1. 0. 9. 0. 1.]\n",
      " [1. 0. 0. 0. 1.]\n",
      " [1. 1. 1. 1. 1.]]\n"
     ]
    }
   ],
   "source": [
    "a = np.ones((5,5))\n",
    "b = np.zeros((3,3))\n",
    "b[1,1] = 9\n",
    "a[1:-1,1:-1] = b\n",
    "print(a)"
   ]
  },
  {
   "cell_type": "markdown",
   "id": "d946b0aa",
   "metadata": {},
   "source": [
    "## numpy矩阵的加减乘除 平方"
   ]
  },
  {
   "cell_type": "code",
   "execution_count": 407,
   "id": "7bad5aef",
   "metadata": {},
   "outputs": [
    {
     "name": "stdout",
     "output_type": "stream",
     "text": [
      "[11. 12. 13. 14.]\n",
      "[11 24 39 56]\n"
     ]
    }
   ],
   "source": [
    "a = np.array([1, 2, 3, 4])\n",
    "b = np.array([11,12,13,14])\n",
    "#c = np.array([[1,20], [5,3]])\n",
    "print(b/1)\n",
    "print(a*b)  # TODO a*b 是矩阵的算术乘\n",
    "#print(a+b[0:4]) #会报错，两个矩阵+的时候，shape要一样"
   ]
  },
  {
   "cell_type": "code",
   "execution_count": 412,
   "id": "a3509578",
   "metadata": {},
   "outputs": [
    {
     "data": {
      "text/plain": [
       "array([ 1,  4,  9, 16])"
      ]
     },
     "execution_count": 412,
     "metadata": {},
     "output_type": "execute_result"
    }
   ],
   "source": [
    "# 平方\n",
    "a = np.array([1, 2, 3, 4])\n",
    "a**2 # a*a"
   ]
  },
  {
   "cell_type": "code",
   "execution_count": 413,
   "id": "fc62cc0c",
   "metadata": {},
   "outputs": [
    {
     "name": "stdout",
     "output_type": "stream",
     "text": [
      "[[ 31  52  91]\n",
      " [ 43  73 126]\n",
      " [ 55  94 161]]\n",
      "[[ 42  60  96]\n",
      " [ 51  73 117]\n",
      " [ 66  94 150]]\n"
     ]
    }
   ],
   "source": [
    "#矩阵的点乘:  左边矩阵的行 乘以 右边矩阵的列\n",
    "a = np.array([[1,2,4],[2,3,5],[3,4,6]])\n",
    "b = np.array([[3,6,9],[4,7,11],[5,8,15]])\n",
    "print(np.dot(a,b)) # dot点：  矩阵的点乘，a和b交换位置后，点乘的结果不一样的！！！\n",
    "print(np.dot(b,a))"
   ]
  },
  {
   "cell_type": "code",
   "execution_count": 414,
   "id": "0c7b45f9",
   "metadata": {},
   "outputs": [],
   "source": [
    "## numpy 加载txt文件中的数据"
   ]
  },
  {
   "cell_type": "code",
   "execution_count": 417,
   "id": "ddb6bc65",
   "metadata": {},
   "outputs": [
    {
     "name": "stdout",
     "output_type": "stream",
     "text": [
      "1\t2\t3\t4\t5\t6\t\n",
      "7\t16\t4\t3\t2\t1\t\n",
      "5\t6\t7\t8\t9\t3\t\n",
      "5\t4\t3\t4\t5\t6\t\n"
     ]
    }
   ],
   "source": [
    "# TODO 不用numpy ， 获取 1.txt中的数据\n",
    "ftxt = open('1.txt','r',encoding='utf-8')\n",
    "\n",
    "# java python c# c++ 本质上是同一个语言，因为都是面向对象的语言。 理解成方言\n",
    "\n",
    "lines = ftxt.readlines() # lines是list类型，可以直接for迭代\n",
    "for line in lines:\n",
    "    #print(line)  # line是str类型   1,2,3,4,5\n",
    "    line = line.replace('\\n','')  # 替换掉 \\n 换行符\n",
    "    numbers = line.split(\",\") # 将字符串按照 ， 号切开。结果是一个list\n",
    "    #print(numbers)\n",
    "    for number in numbers:\n",
    "        print(number,end=\"\\t\") # print不换行\n",
    "    print()\n"
   ]
  },
  {
   "cell_type": "code",
   "execution_count": 418,
   "id": "4804e8e1",
   "metadata": {},
   "outputs": [
    {
     "name": "stdout",
     "output_type": "stream",
     "text": [
      "[[ 1  2  3  4  5  6]\n",
      " [ 7 16  4  3  2  1]\n",
      " [ 5  6  7  8  9  3]\n",
      " [ 5  4  3  4  5  6]]\n",
      "int8\n"
     ]
    }
   ],
   "source": [
    "# 使用numpy加载 1.txt\n",
    "import numpy as np\n",
    "\n",
    "ftxt = np.genfromtxt(\"1.txt\", delimiter=',') # ftxt是一个 numpy.ndarray类型\n",
    "ftxt = ftxt.astype('int8')  # 修改数据类型。因为我们知道int8能装的下\n",
    "print(ftxt)\n",
    "print(ftxt.dtype)"
   ]
  },
  {
   "cell_type": "code",
   "execution_count": 421,
   "id": "ddeacb67",
   "metadata": {},
   "outputs": [
    {
     "name": "stdout",
     "output_type": "stream",
     "text": [
      "[1 3 4 5]\n"
     ]
    }
   ],
   "source": [
    "# numpy数组对象的复制\n",
    "a = np.array([2,3,4,5])\n",
    "b = a\n",
    "b[0] = 1\n",
    "print(a)"
   ]
  },
  {
   "cell_type": "code",
   "execution_count": 422,
   "id": "3f83c95c",
   "metadata": {},
   "outputs": [
    {
     "name": "stdout",
     "output_type": "stream",
     "text": [
      "[2 3 4 5]\n"
     ]
    }
   ],
   "source": [
    "# numpy数组对象的复制\n",
    "a = np.array([2,3,4,5])\n",
    "b = a.copy()\n",
    "b[0] = 1\n",
    "print(a)"
   ]
  }
 ],
 "metadata": {
  "kernelspec": {
   "display_name": "Python 3 (ipykernel)",
   "language": "python",
   "name": "python3"
  },
  "language_info": {
   "codemirror_mode": {
    "name": "ipython",
    "version": 3
   },
   "file_extension": ".py",
   "mimetype": "text/x-python",
   "name": "python",
   "nbconvert_exporter": "python",
   "pygments_lexer": "ipython3",
   "version": "3.9.2"
  }
 },
 "nbformat": 4,
 "nbformat_minor": 5
}
