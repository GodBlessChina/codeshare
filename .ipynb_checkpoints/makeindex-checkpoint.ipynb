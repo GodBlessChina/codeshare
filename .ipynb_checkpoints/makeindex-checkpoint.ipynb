{
 "cells": [
  {
   "cell_type": "markdown",
   "id": "6db0218d",
   "metadata": {},
   "source": [
    "# make index.html"
   ]
  },
  {
   "cell_type": "code",
   "execution_count": null,
   "id": "67190a06",
   "metadata": {},
   "outputs": [],
   "source": [
    "import sys\n",
    "import os\n",
    "fnames = os.listdir(sys.path[0])\n",
    "fnames.remove('index.html')\n",
    "\n",
    "import time\n",
    "\n",
    "\n",
    "# hrefs\n",
    "hrefs = []\n",
    "\n",
    "for fname in fnames:\n",
    "    if fname.endswith('html'):\n",
    "        #print(fname)\n",
    "        href = fname.replace('.html','')\n",
    "        # Warning: `Watch this <http://www.youtube.com/watch?v=dQw4w9WgXcQ&ob=av3e>`_!\n",
    "        href = f\"\"\"`{href} <https://godblesschina.github.io/codeshare/{fname}>`_\"\"\"\n",
    "        hrefs.append(href)\n",
    "findexrstbac = open('source/_index.rst')\n",
    "findexrst = open('source/index.rst','w')\n",
    "s = findexrstbac.read()\n",
    "content = s.replace('replace','')\n",
    "#print(content)\n",
    "findexrst.write(content)\n",
    "for line in hrefs:\n",
    "    #print(line)\n",
    "    findexrst.writelines(line+\"\\n\\n\\n\")\n",
    "    \n",
    "findexrstbac.close()\n",
    "findexrst.close()\n",
    "# open('source/index.rst','w').write(content)\n",
    "\n",
    "print('开始编译')\n",
    "os.system(\"make html\")\n",
    "#os.system('open build/html/index.html')\n",
    "print(\"编译完成\")\n",
    "print('提交至git...')\n",
    "os.system('git add .')\n",
    "timestamp = int(time.time())\n",
    "t = time.strftime('%Y-%m-%d %H:%M:%S',time.localtime(timestamp))\n",
    "os.system(f'git commit -m \"提交笔记{t}\"')\n",
    "os.system('git push')\n",
    "print('提交完成')\n",
    "os.system('open https://godblesschina.github.io/codeshare/build/html/index.html')"
   ]
  },
  {
   "cell_type": "code",
   "execution_count": null,
   "id": "283c4fb7",
   "metadata": {},
   "outputs": [],
   "source": []
  }
 ],
 "metadata": {
  "kernelspec": {
   "display_name": "Python 3 (ipykernel)",
   "language": "python",
   "name": "python3"
  },
  "language_info": {
   "codemirror_mode": {
    "name": "ipython",
    "version": 3
   },
   "file_extension": ".py",
   "mimetype": "text/x-python",
   "name": "python",
   "nbconvert_exporter": "python",
   "pygments_lexer": "ipython3",
   "version": "3.9.2"
  }
 },
 "nbformat": 4,
 "nbformat_minor": 5
}
