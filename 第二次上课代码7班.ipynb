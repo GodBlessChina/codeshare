{
 "cells": [
  {
   "cell_type": "markdown",
   "id": "7942f027",
   "metadata": {},
   "source": [
    "# numpy学习 7班"
   ]
  },
  {
   "cell_type": "markdown",
   "id": "5b8e9323",
   "metadata": {},
   "source": [
    "### 作业说明：\n",
    "####    代码没有标准答案，但是代码有好坏之分，衡量好坏的标准：\n",
    "####    1 代码的时间复杂度\n",
    "####    2 代码的空间复杂度\n",
    "####    3 代码书写的规范：是否符合语言规范，命名是否清晰易懂，代码是否整洁 《代码整洁之道》，代码是否重复(代码不要重复)\n",
    "            # don't repeat yourself !!! dry原则"
   ]
  },
  {
   "cell_type": "code",
   "execution_count": 5,
   "id": "76644a70",
   "metadata": {},
   "outputs": [],
   "source": [
    "import numpy as np"
   ]
  },
  {
   "cell_type": "code",
   "execution_count": 9,
   "id": "16003bb9",
   "metadata": {},
   "outputs": [
    {
     "name": "stdout",
     "output_type": "stream",
     "text": [
      "[2 3 4 1 6]\n"
     ]
    }
   ],
   "source": [
    "a = np.array([2,3,4,1,6]) # array数组 使用numpy的array api创建一个一维数组\n",
    "print(a)"
   ]
  },
  {
   "cell_type": "code",
   "execution_count": 14,
   "id": "bb21069f",
   "metadata": {},
   "outputs": [
    {
     "name": "stdout",
     "output_type": "stream",
     "text": [
      "6\n"
     ]
    }
   ],
   "source": [
    "# 求a的最大值\n",
    "print(a.max())"
   ]
  },
  {
   "cell_type": "code",
   "execution_count": 16,
   "id": "4eb0c915",
   "metadata": {},
   "outputs": [
    {
     "data": {
      "text/plain": [
       "numpy.ndarray"
      ]
     },
     "execution_count": 16,
     "metadata": {},
     "output_type": "execute_result"
    }
   ],
   "source": [
    "type(a)  # a是numpy.ndarray类型,不是list类型了   ndarray：n dimension array n纬数组"
   ]
  },
  {
   "cell_type": "code",
   "execution_count": 17,
   "id": "a61b5e17",
   "metadata": {},
   "outputs": [
    {
     "data": {
      "text/plain": [
       "list"
      ]
     },
     "execution_count": 17,
     "metadata": {},
     "output_type": "execute_result"
    }
   ],
   "source": [
    "type([2,3,45])"
   ]
  },
  {
   "cell_type": "markdown",
   "id": "bcdbbd74",
   "metadata": {},
   "source": [
    "### numpy.ndarray对象中常用的api"
   ]
  },
  {
   "cell_type": "code",
   "execution_count": 29,
   "id": "34411900",
   "metadata": {},
   "outputs": [],
   "source": [
    "a = np.array([2,3,4,1,6])\n",
    "b = np.array([[5,2],[2,6],[6,4]])\n",
    "c = np.array([[[8,5,2],[5,6,7]]    ,    [[2,6,3],[6,4,3]]])"
   ]
  },
  {
   "cell_type": "code",
   "execution_count": 32,
   "id": "8cf73540",
   "metadata": {},
   "outputs": [
    {
     "name": "stdout",
     "output_type": "stream",
     "text": [
      "(5,)\n",
      "(3, 2)\n",
      "(2, 2, 3)\n"
     ]
    }
   ],
   "source": [
    "print(a.shape) # shape形状。。。  结果(5,)的括号中只有一个数字，说明数组a是1维的，并且第一层有5个元素\n",
    "print(b.shape) # (3,2)，圆括号中有两个数字，表示一个二维矩阵，第一层有3个元素，第二层有2个元素\n",
    "print(c.shape)"
   ]
  },
  {
   "cell_type": "code",
   "execution_count": 41,
   "id": "002ceff1",
   "metadata": {},
   "outputs": [
    {
     "name": "stdout",
     "output_type": "stream",
     "text": [
      "6 | 6 | 8\n"
     ]
    }
   ],
   "source": [
    "print(f'{a.max()} | {b.max()} | {c.max()}') # 函数起名字尽量用动词  max min 最大最小"
   ]
  },
  {
   "cell_type": "code",
   "execution_count": 45,
   "id": "834ea3d0",
   "metadata": {},
   "outputs": [
    {
     "name": "stdout",
     "output_type": "stream",
     "text": [
      "1 | 2 | 3\n"
     ]
    }
   ],
   "source": [
    "print(f'{a.ndim} | {b.ndim} | {c.ndim}') # ndim: n dimension 查看矩阵的维度"
   ]
  },
  {
   "cell_type": "code",
   "execution_count": 49,
   "id": "1f6fc998",
   "metadata": {},
   "outputs": [
    {
     "name": "stdout",
     "output_type": "stream",
     "text": [
      "5 | 6 | 12\n"
     ]
    }
   ],
   "source": [
    "print(f'{a.size} | {b.size} | {c.size}') # size大小 查看矩阵中元素的个数"
   ]
  },
  {
   "cell_type": "code",
   "execution_count": 53,
   "id": "0d80d097",
   "metadata": {},
   "outputs": [
    {
     "name": "stdout",
     "output_type": "stream",
     "text": [
      "int64 | int64 | int64\n"
     ]
    }
   ],
   "source": [
    "print(f'{a.dtype} | {b.dtype} | {c.dtype}') # dtype: data type 数据类型。"
   ]
  },
  {
   "cell_type": "code",
   "execution_count": 65,
   "id": "dca60085",
   "metadata": {},
   "outputs": [
    {
     "name": "stdout",
     "output_type": "stream",
     "text": [
      "a=[  2   3 127 127   6]\n",
      "int8 | int64 | int64\n"
     ]
    }
   ],
   "source": [
    "a = np.array([2,3,-129,127,6],dtype='int8') # int8范围是 [-128,127]\n",
    "b = np.array([[5,2],[2,6],[6,4]])\n",
    "c = np.array([[[8,5,2],[5,6,7]]    ,    [[2,6,3],[6,4,3]]])\n",
    "print(f\"a={a}\")\n",
    "print(f'{a.dtype} | {b.dtype} | {c.dtype}')"
   ]
  },
  {
   "cell_type": "markdown",
   "id": "92d55d53",
   "metadata": {},
   "source": [
    "# numpy生成矩阵"
   ]
  },
  {
   "cell_type": "code",
   "execution_count": 81,
   "id": "08944f32",
   "metadata": {},
   "outputs": [
    {
     "name": "stdout",
     "output_type": "stream",
     "text": [
      "[[0. 0. 0. 0. 0.]\n",
      " [0. 0. 0. 0. 0.]\n",
      " [0. 0. 0. 0. 0.]]\n",
      "(3, 5)\n"
     ]
    }
   ],
   "source": [
    "a = np.zeros((3,5))  # zero:0 生成一个3x5的二维矩阵，元素都是0\n",
    "print(a)\n",
    "print(a.shape)"
   ]
  },
  {
   "cell_type": "code",
   "execution_count": 83,
   "id": "001f2408",
   "metadata": {},
   "outputs": [
    {
     "name": "stdout",
     "output_type": "stream",
     "text": [
      "[[1. 1. 1. 1. 1. 1.]\n",
      " [1. 1. 1. 1. 1. 1.]]\n",
      "(2, 6)\n"
     ]
    }
   ],
   "source": [
    "b = np.ones((2,6)) # 生成一个二维矩阵，用1填充\n",
    "print(b)\n",
    "print(b.shape)"
   ]
  },
  {
   "cell_type": "code",
   "execution_count": 90,
   "id": "fb376438",
   "metadata": {},
   "outputs": [
    {
     "name": "stdout",
     "output_type": "stream",
     "text": [
      "[[10 10 10 10 10]\n",
      " [10 10 10 10 10]\n",
      " [10 10 10 10 10]\n",
      " [10 10 10 10 10]\n",
      " [10 10 10 10 10]]\n",
      "(5, 5)\n"
     ]
    }
   ],
   "source": [
    "c = np.full((5,5), 10) # 生成一个5x5的二维矩阵，用10填充\n",
    "print(c)\n",
    "print(c.shape)"
   ]
  },
  {
   "cell_type": "code",
   "execution_count": 92,
   "id": "9c037545",
   "metadata": {},
   "outputs": [
    {
     "name": "stdout",
     "output_type": "stream",
     "text": [
      "[[11 11 11 11 11]\n",
      " [11 11 11 11 11]\n",
      " [11 11 11 11 11]\n",
      " [11 11 11 11 11]\n",
      " [11 11 11 11 11]]\n"
     ]
    }
   ],
   "source": [
    "d = np.full_like(c, 11) # like好像。   创建一个跟c的shape一样的二维数组，用11填充\n",
    "print(d)"
   ]
  },
  {
   "cell_type": "markdown",
   "id": "db7a00c3",
   "metadata": {},
   "source": [
    "# numpy生成随机数/随机矩阵"
   ]
  },
  {
   "cell_type": "code",
   "execution_count": 209,
   "id": "b0ffca85",
   "metadata": {},
   "outputs": [
    {
     "name": "stdout",
     "output_type": "stream",
     "text": [
      "[[0.05159297 0.79491726 0.90693841]\n",
      " [0.12372394 0.22623117 0.05371311]\n",
      " [0.70301946 0.98410322 0.16368649]]\n"
     ]
    }
   ],
   "source": [
    "a = np.random.rand(3,3) # 随机生成一个2x2的矩阵 元素范围是(0-1)\n",
    "print(a)"
   ]
  },
  {
   "cell_type": "code",
   "execution_count": 334,
   "id": "49b4df0a",
   "metadata": {},
   "outputs": [
    {
     "name": "stdout",
     "output_type": "stream",
     "text": [
      "4\n"
     ]
    }
   ],
   "source": [
    "# 如何得到一个随机数 骰子\n",
    "i = np.random.randint(1,10) # 产生一个随机的整数。 《计算机程序设计艺术》高德纳 图灵奖   伪随机数\n",
    "print(i)"
   ]
  },
  {
   "cell_type": "code",
   "execution_count": 404,
   "id": "5d3151a9",
   "metadata": {},
   "outputs": [
    {
     "name": "stdout",
     "output_type": "stream",
     "text": [
      "[[ 7 47 71]\n",
      " [55 85 82]\n",
      " [ 8 67 69]]\n",
      "[[22 92 93]\n",
      " [50 86 22]\n",
      " [75 67 28]]\n"
     ]
    }
   ],
   "source": [
    "a = np.random.randint(100,size=(3,3)) # 创建一个随机的矩阵3x3  元素的范围是[0,99]\n",
    "print(a)\n",
    "a = np.random.randint(1,100,size=(3,3))  # 创建一个随机的矩阵3x3  元素的范围是[1,99]\n",
    "print(a)"
   ]
  },
  {
   "cell_type": "code",
   "execution_count": 418,
   "id": "78c77d37",
   "metadata": {},
   "outputs": [
    {
     "name": "stdout",
     "output_type": "stream",
     "text": [
      "[[0.52587159 0.62487733 0.28694684]\n",
      " [0.95032263 0.70005226 0.74216175]\n",
      " [0.5370679  0.1699794  0.90077354]]\n"
     ]
    }
   ],
   "source": [
    "b = np.random.sample(a.shape) #sample例子。 按照a的shape形状 创建一个随机矩阵，元素是[0,1)之间的随机数\n",
    "print(b)"
   ]
  },
  {
   "cell_type": "code",
   "execution_count": 439,
   "id": "c0c06ec4",
   "metadata": {},
   "outputs": [
    {
     "name": "stdout",
     "output_type": "stream",
     "text": [
      "[[81 22 21]\n",
      " [60 26  8]\n",
      " [29 57 20]]\n"
     ]
    }
   ],
   "source": [
    "b = np.random.randint(1,100,size=a.shape)\n",
    "print(b)"
   ]
  },
  {
   "cell_type": "markdown",
   "id": "38ff90a5",
   "metadata": {},
   "source": [
    "### numpy 复制 矩阵"
   ]
  },
  {
   "cell_type": "code",
   "execution_count": 443,
   "id": "2bb4ec56",
   "metadata": {},
   "outputs": [
    {
     "name": "stdout",
     "output_type": "stream",
     "text": [
      "[1 1 2 2 3 3]\n"
     ]
    }
   ],
   "source": [
    "a = np.array([1,2,3])\n",
    "b = np.repeat(a,2)  # re重复 再   rename. fefactor重构\n",
    "print(b)"
   ]
  },
  {
   "cell_type": "code",
   "execution_count": 445,
   "id": "87008222",
   "metadata": {},
   "outputs": [
    {
     "name": "stdout",
     "output_type": "stream",
     "text": [
      "[1 1 2 2 3 3 4 4 5 5 6 6]\n"
     ]
    }
   ],
   "source": [
    "a = np.array([[1,2],[3,4],[5,6]])\n",
    "b = np.repeat(a,2)\n",
    "print(b)"
   ]
  },
  {
   "cell_type": "markdown",
   "id": "074b2b5b",
   "metadata": {},
   "source": [
    "# axis层级  axis=0代表第1层。axis=1代表第2层。axis=2代表第3层，但a是2纬度矩阵，没有第3层，所以报错。"
   ]
  },
  {
   "cell_type": "code",
   "execution_count": 450,
   "id": "09420df1",
   "metadata": {},
   "outputs": [
    {
     "ename": "AxisError",
     "evalue": "axis 2 is out of bounds for array of dimension 2",
     "output_type": "error",
     "traceback": [
      "\u001b[0;31m---------------------------------------------------------------------------\u001b[0m",
      "\u001b[0;31mAxisError\u001b[0m                                 Traceback (most recent call last)",
      "Input \u001b[0;32mIn [450]\u001b[0m, in \u001b[0;36m<cell line: 2>\u001b[0;34m()\u001b[0m\n\u001b[1;32m      1\u001b[0m a \u001b[38;5;241m=\u001b[39m np\u001b[38;5;241m.\u001b[39marray([[\u001b[38;5;241m1\u001b[39m,\u001b[38;5;241m2\u001b[39m],[\u001b[38;5;241m3\u001b[39m,\u001b[38;5;241m4\u001b[39m],[\u001b[38;5;241m5\u001b[39m,\u001b[38;5;241m6\u001b[39m]])  \u001b[38;5;66;03m# a现在是一个2维矩阵。a有2个维度，也就是有两层\u001b[39;00m\n\u001b[0;32m----> 2\u001b[0m b \u001b[38;5;241m=\u001b[39m \u001b[43mnp\u001b[49m\u001b[38;5;241;43m.\u001b[39;49m\u001b[43mrepeat\u001b[49m\u001b[43m(\u001b[49m\u001b[43ma\u001b[49m\u001b[43m,\u001b[49m\u001b[38;5;241;43m2\u001b[39;49m\u001b[43m,\u001b[49m\u001b[43maxis\u001b[49m\u001b[38;5;241;43m=\u001b[39;49m\u001b[38;5;241;43m2\u001b[39;49m\u001b[43m)\u001b[49m \u001b[38;5;66;03m# axis层级  axis=0代表第1层。axis=1代表第2层。axis=2代表第3层，但是a没有第3层，所以报错。\u001b[39;00m\n\u001b[1;32m      3\u001b[0m \u001b[38;5;28mprint\u001b[39m(b)\n",
      "File \u001b[0;32m<__array_function__ internals>:180\u001b[0m, in \u001b[0;36mrepeat\u001b[0;34m(*args, **kwargs)\u001b[0m\n",
      "File \u001b[0;32m/Library/Frameworks/Python.framework/Versions/3.9/lib/python3.9/site-packages/numpy/core/fromnumeric.py:479\u001b[0m, in \u001b[0;36mrepeat\u001b[0;34m(a, repeats, axis)\u001b[0m\n\u001b[1;32m    436\u001b[0m \u001b[38;5;129m@array_function_dispatch\u001b[39m(_repeat_dispatcher)\n\u001b[1;32m    437\u001b[0m \u001b[38;5;28;01mdef\u001b[39;00m \u001b[38;5;21mrepeat\u001b[39m(a, repeats, axis\u001b[38;5;241m=\u001b[39m\u001b[38;5;28;01mNone\u001b[39;00m):\n\u001b[1;32m    438\u001b[0m     \u001b[38;5;124;03m\"\"\"\u001b[39;00m\n\u001b[1;32m    439\u001b[0m \u001b[38;5;124;03m    Repeat elements of an array.\u001b[39;00m\n\u001b[1;32m    440\u001b[0m \n\u001b[0;32m   (...)\u001b[0m\n\u001b[1;32m    477\u001b[0m \n\u001b[1;32m    478\u001b[0m \u001b[38;5;124;03m    \"\"\"\u001b[39;00m\n\u001b[0;32m--> 479\u001b[0m     \u001b[38;5;28;01mreturn\u001b[39;00m \u001b[43m_wrapfunc\u001b[49m\u001b[43m(\u001b[49m\u001b[43ma\u001b[49m\u001b[43m,\u001b[49m\u001b[43m \u001b[49m\u001b[38;5;124;43m'\u001b[39;49m\u001b[38;5;124;43mrepeat\u001b[39;49m\u001b[38;5;124;43m'\u001b[39;49m\u001b[43m,\u001b[49m\u001b[43m \u001b[49m\u001b[43mrepeats\u001b[49m\u001b[43m,\u001b[49m\u001b[43m \u001b[49m\u001b[43maxis\u001b[49m\u001b[38;5;241;43m=\u001b[39;49m\u001b[43maxis\u001b[49m\u001b[43m)\u001b[49m\n",
      "File \u001b[0;32m/Library/Frameworks/Python.framework/Versions/3.9/lib/python3.9/site-packages/numpy/core/fromnumeric.py:57\u001b[0m, in \u001b[0;36m_wrapfunc\u001b[0;34m(obj, method, *args, **kwds)\u001b[0m\n\u001b[1;32m     54\u001b[0m     \u001b[38;5;28;01mreturn\u001b[39;00m _wrapit(obj, method, \u001b[38;5;241m*\u001b[39margs, \u001b[38;5;241m*\u001b[39m\u001b[38;5;241m*\u001b[39mkwds)\n\u001b[1;32m     56\u001b[0m \u001b[38;5;28;01mtry\u001b[39;00m:\n\u001b[0;32m---> 57\u001b[0m     \u001b[38;5;28;01mreturn\u001b[39;00m \u001b[43mbound\u001b[49m\u001b[43m(\u001b[49m\u001b[38;5;241;43m*\u001b[39;49m\u001b[43margs\u001b[49m\u001b[43m,\u001b[49m\u001b[43m \u001b[49m\u001b[38;5;241;43m*\u001b[39;49m\u001b[38;5;241;43m*\u001b[39;49m\u001b[43mkwds\u001b[49m\u001b[43m)\u001b[49m\n\u001b[1;32m     58\u001b[0m \u001b[38;5;28;01mexcept\u001b[39;00m \u001b[38;5;167;01mTypeError\u001b[39;00m:\n\u001b[1;32m     59\u001b[0m     \u001b[38;5;66;03m# A TypeError occurs if the object does have such a method in its\u001b[39;00m\n\u001b[1;32m     60\u001b[0m     \u001b[38;5;66;03m# class, but its signature is not identical to that of NumPy's. This\u001b[39;00m\n\u001b[0;32m   (...)\u001b[0m\n\u001b[1;32m     64\u001b[0m     \u001b[38;5;66;03m# Call _wrapit from within the except clause to ensure a potential\u001b[39;00m\n\u001b[1;32m     65\u001b[0m     \u001b[38;5;66;03m# exception has a traceback chain.\u001b[39;00m\n\u001b[1;32m     66\u001b[0m     \u001b[38;5;28;01mreturn\u001b[39;00m _wrapit(obj, method, \u001b[38;5;241m*\u001b[39margs, \u001b[38;5;241m*\u001b[39m\u001b[38;5;241m*\u001b[39mkwds)\n",
      "\u001b[0;31mAxisError\u001b[0m: axis 2 is out of bounds for array of dimension 2"
     ]
    }
   ],
   "source": [
    "a = np.array([[1,2],[3,4],[5,6]])  # a现在是一个2维矩阵。a有2个维度，也就是有两层\n",
    "b = np.repeat(a,2,axis=2) \n",
    "print(b)"
   ]
  },
  {
   "cell_type": "code",
   "execution_count": 456,
   "id": "ce6b62df",
   "metadata": {},
   "outputs": [
    {
     "name": "stdout",
     "output_type": "stream",
     "text": [
      "[[1 1 2 2]\n",
      " [3 3 4 4]\n",
      " [5 5 6 6]]\n"
     ]
    }
   ],
   "source": [
    "a = np.array([[1,2],[3,4],[5,6]])  # a现在是一个2维矩阵。a有2个维度，也就是有两层\n",
    "b = np.repeat(a,2,axis=1) # axis层级  axis=0代表第1层。axis=1代表第2层。axis=2代表第3层，但是a没有第3层，所以报错。\n",
    "print(b)"
   ]
  },
  {
   "cell_type": "code",
   "execution_count": 467,
   "id": "f36bddf0",
   "metadata": {},
   "outputs": [
    {
     "name": "stdout",
     "output_type": "stream",
     "text": [
      "[[[8 5 2]\n",
      "  [5 6 7]]\n",
      "\n",
      " [[8 5 2]\n",
      "  [5 6 7]]\n",
      "\n",
      " [[2 6 3]\n",
      "  [6 4 3]]\n",
      "\n",
      " [[2 6 3]\n",
      "  [6 4 3]]]\n"
     ]
    }
   ],
   "source": [
    "c = np.array([[[8,5,2],[5,6,7]] , [[2,6,3],[6,4,3]]])\n",
    "b = np.repeat(c,2,axis=0) # axis层级  axis=0代表第1层。axis=1代表第2层。axis=2代表第3层，但是a没有第3层，所以报错。\n",
    "print(b)"
   ]
  },
  {
   "cell_type": "code",
   "execution_count": 472,
   "id": "70f41b02",
   "metadata": {},
   "outputs": [
    {
     "name": "stdout",
     "output_type": "stream",
     "text": [
      "[[1. 0. 0. 0. 0.]\n",
      " [0. 1. 0. 0. 0.]\n",
      " [0. 0. 1. 0. 0.]\n",
      " [0. 0. 0. 1. 0.]\n",
      " [0. 0. 0. 0. 1.]]\n"
     ]
    }
   ],
   "source": [
    "a = np.identity(5) # 生成一个3x3矩阵，而且这个矩阵是一个 单位矩阵：identity matrix\n",
    "print(a)"
   ]
  },
  {
   "cell_type": "code",
   "execution_count": 473,
   "id": "e3f065ce",
   "metadata": {},
   "outputs": [],
   "source": [
    "### 矩阵的索引，切隔"
   ]
  },
  {
   "cell_type": "code",
   "execution_count": 491,
   "id": "0492747e",
   "metadata": {},
   "outputs": [],
   "source": [
    "a = np.array([2,3,4,1,6])\n",
    "b = np.array([[5,2,12,3,4],[2,61,2,3,4],[6,5,3,2,4]])\n",
    "c = np.array([[[8,5,2],[5,6,7]]    ,    [[2,6,3],[6,4,3]]])"
   ]
  },
  {
   "cell_type": "code",
   "execution_count": 492,
   "id": "3a6e2191",
   "metadata": {},
   "outputs": [
    {
     "data": {
      "text/plain": [
       "array([2, 3, 4])"
      ]
     },
     "execution_count": 492,
     "metadata": {},
     "output_type": "execute_result"
    }
   ],
   "source": [
    "a[0:3]"
   ]
  },
  {
   "cell_type": "code",
   "execution_count": 493,
   "id": "7da5954b",
   "metadata": {},
   "outputs": [
    {
     "name": "stdout",
     "output_type": "stream",
     "text": [
      "5\n",
      "5\n"
     ]
    }
   ],
   "source": [
    "print(b[2][1])\n",
    "print(b[2,1])"
   ]
  },
  {
   "cell_type": "code",
   "execution_count": 496,
   "id": "98cf11ec",
   "metadata": {},
   "outputs": [
    {
     "name": "stdout",
     "output_type": "stream",
     "text": [
      "[12  3  4]\n",
      "[12  3  4]\n"
     ]
    }
   ],
   "source": [
    "print(b[0][2:5])\n",
    "print(b[0,2:5])"
   ]
  }
 ],
 "metadata": {
  "kernelspec": {
   "display_name": "Python 3 (ipykernel)",
   "language": "python",
   "name": "python3"
  },
  "language_info": {
   "codemirror_mode": {
    "name": "ipython",
    "version": 3
   },
   "file_extension": ".py",
   "mimetype": "text/x-python",
   "name": "python",
   "nbconvert_exporter": "python",
   "pygments_lexer": "ipython3",
   "version": "3.9.2"
  }
 },
 "nbformat": 4,
 "nbformat_minor": 5
}
