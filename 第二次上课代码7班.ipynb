{
 "cells": [
  {
   "cell_type": "markdown",
   "id": "e9adf187",
   "metadata": {},
   "source": [
    "# numpy学习 7班"
   ]
  },
  {
   "cell_type": "markdown",
   "id": "74e8139b",
   "metadata": {},
   "source": [
    "### 作业说明：\n",
    "####    代码没有标准答案，但是代码有好坏之分，衡量好坏的标准：\n",
    "####    1 代码的时间复杂度\n",
    "####    2 代码的空间复杂度\n",
    "####    3 代码书写的规范：是否符合语言规范，命名是否清晰易懂，代码是否整洁 《代码整洁之道》，代码是否重复(代码不要重复)\n",
    "            # don't repeat yourself !!! dry原则"
   ]
  },
  {
   "cell_type": "code",
   "execution_count": 5,
   "id": "2434fcb8",
   "metadata": {},
   "outputs": [],
   "source": [
    "import numpy as np"
   ]
  },
  {
   "cell_type": "code",
   "execution_count": 9,
   "id": "e1cd410b",
   "metadata": {},
   "outputs": [
    {
     "name": "stdout",
     "output_type": "stream",
     "text": [
      "[2 3 4 1 6]\n"
     ]
    }
   ],
   "source": [
    "a = np.array([2,3,4,1,6]) # array数组 使用numpy的array api创建一个一维数组\n",
    "print(a)"
   ]
  },
  {
   "cell_type": "code",
   "execution_count": 14,
   "id": "8ab13696",
   "metadata": {},
   "outputs": [
    {
     "name": "stdout",
     "output_type": "stream",
     "text": [
      "6\n"
     ]
    }
   ],
   "source": [
    "# 求a的最大值\n",
    "print(a.max())"
   ]
  },
  {
   "cell_type": "code",
   "execution_count": 16,
   "id": "42d9f3e6",
   "metadata": {},
   "outputs": [
    {
     "data": {
      "text/plain": [
       "numpy.ndarray"
      ]
     },
     "execution_count": 16,
     "metadata": {},
     "output_type": "execute_result"
    }
   ],
   "source": [
    "type(a)  # a是numpy.ndarray类型,不是list类型了   ndarray：n dimension array n纬数组"
   ]
  },
  {
   "cell_type": "code",
   "execution_count": 17,
   "id": "797bf32a",
   "metadata": {},
   "outputs": [
    {
     "data": {
      "text/plain": [
       "list"
      ]
     },
     "execution_count": 17,
     "metadata": {},
     "output_type": "execute_result"
    }
   ],
   "source": [
    "type([2,3,45])"
   ]
  },
  {
   "cell_type": "markdown",
   "id": "59410679",
   "metadata": {},
   "source": [
    "### numpy.ndarray对象中常用的api"
   ]
  },
  {
   "cell_type": "code",
   "execution_count": 29,
   "id": "f3db02f4",
   "metadata": {},
   "outputs": [],
   "source": [
    "a = np.array([2,3,4,1,6])\n",
    "b = np.array([[5,2],[2,6],[6,4]])\n",
    "c = np.array([[[8,5,2],[5,6,7]]    ,    [[2,6,3],[6,4,3]]])"
   ]
  },
  {
   "cell_type": "code",
   "execution_count": 32,
   "id": "1a1c1abb",
   "metadata": {},
   "outputs": [
    {
     "name": "stdout",
     "output_type": "stream",
     "text": [
      "(5,)\n",
      "(3, 2)\n",
      "(2, 2, 3)\n"
     ]
    }
   ],
   "source": [
    "print(a.shape) # shape形状。。。  结果(5,)的括号中只有一个数字，说明数组a是1维的，并且第一层有5个元素\n",
    "print(b.shape) # (3,2)，圆括号中有两个数字，表示一个二维矩阵，第一层有3个元素，第二层有2个元素\n",
    "print(c.shape)"
   ]
  },
  {
   "cell_type": "code",
   "execution_count": 41,
   "id": "f1108de1",
   "metadata": {},
   "outputs": [
    {
     "name": "stdout",
     "output_type": "stream",
     "text": [
      "6 | 6 | 8\n"
     ]
    }
   ],
   "source": [
    "print(f'{a.max()} | {b.max()} | {c.max()}') # 函数起名字尽量用动词  max min 最大最小"
   ]
  },
  {
   "cell_type": "code",
   "execution_count": 45,
   "id": "111b5046",
   "metadata": {},
   "outputs": [
    {
     "name": "stdout",
     "output_type": "stream",
     "text": [
      "1 | 2 | 3\n"
     ]
    }
   ],
   "source": [
    "print(f'{a.ndim} | {b.ndim} | {c.ndim}') # ndim: n dimension 查看矩阵的维度"
   ]
  },
  {
   "cell_type": "code",
   "execution_count": 49,
   "id": "22209919",
   "metadata": {},
   "outputs": [
    {
     "name": "stdout",
     "output_type": "stream",
     "text": [
      "5 | 6 | 12\n"
     ]
    }
   ],
   "source": [
    "print(f'{a.size} | {b.size} | {c.size}') # size大小 查看矩阵中元素的个数"
   ]
  },
  {
   "cell_type": "code",
   "execution_count": 53,
   "id": "4bc584a1",
   "metadata": {},
   "outputs": [
    {
     "name": "stdout",
     "output_type": "stream",
     "text": [
      "int64 | int64 | int64\n"
     ]
    }
   ],
   "source": [
    "print(f'{a.dtype} | {b.dtype} | {c.dtype}') # dtype: data type 数据类型。"
   ]
  },
  {
   "cell_type": "code",
   "execution_count": 65,
   "id": "c6bb977d",
   "metadata": {},
   "outputs": [
    {
     "name": "stdout",
     "output_type": "stream",
     "text": [
      "a=[  2   3 127 127   6]\n",
      "int8 | int64 | int64\n"
     ]
    }
   ],
   "source": [
    "a = np.array([2,3,-129,127,6],dtype='int8') # int8范围是 [-128,127]\n",
    "b = np.array([[5,2],[2,6],[6,4]])\n",
    "c = np.array([[[8,5,2],[5,6,7]]    ,    [[2,6,3],[6,4,3]]])\n",
    "print(f\"a={a}\")\n",
    "print(f'{a.dtype} | {b.dtype} | {c.dtype}')"
   ]
  },
  {
   "cell_type": "markdown",
   "id": "d1c820fb",
   "metadata": {},
   "source": [
    "# numpy生成矩阵"
   ]
  },
  {
   "cell_type": "code",
   "execution_count": 81,
   "id": "9f9f7a13",
   "metadata": {},
   "outputs": [
    {
     "name": "stdout",
     "output_type": "stream",
     "text": [
      "[[0. 0. 0. 0. 0.]\n",
      " [0. 0. 0. 0. 0.]\n",
      " [0. 0. 0. 0. 0.]]\n",
      "(3, 5)\n"
     ]
    }
   ],
   "source": [
    "a = np.zeros((3,5))  # zero:0 生成一个3x5的二维矩阵，元素都是0\n",
    "print(a)\n",
    "print(a.shape)"
   ]
  },
  {
   "cell_type": "code",
   "execution_count": 83,
   "id": "75e1fb36",
   "metadata": {},
   "outputs": [
    {
     "name": "stdout",
     "output_type": "stream",
     "text": [
      "[[1. 1. 1. 1. 1. 1.]\n",
      " [1. 1. 1. 1. 1. 1.]]\n",
      "(2, 6)\n"
     ]
    }
   ],
   "source": [
    "b = np.ones((2,6)) # 生成一个二维矩阵，用1填充\n",
    "print(b)\n",
    "print(b.shape)"
   ]
  },
  {
   "cell_type": "code",
   "execution_count": 90,
   "id": "1590657e",
   "metadata": {},
   "outputs": [
    {
     "name": "stdout",
     "output_type": "stream",
     "text": [
      "[[10 10 10 10 10]\n",
      " [10 10 10 10 10]\n",
      " [10 10 10 10 10]\n",
      " [10 10 10 10 10]\n",
      " [10 10 10 10 10]]\n",
      "(5, 5)\n"
     ]
    }
   ],
   "source": [
    "c = np.full((5,5), 10) # 生成一个5x5的二维矩阵，用10填充\n",
    "print(c)\n",
    "print(c.shape)"
   ]
  },
  {
   "cell_type": "code",
   "execution_count": 92,
   "id": "c635ceeb",
   "metadata": {},
   "outputs": [
    {
     "name": "stdout",
     "output_type": "stream",
     "text": [
      "[[11 11 11 11 11]\n",
      " [11 11 11 11 11]\n",
      " [11 11 11 11 11]\n",
      " [11 11 11 11 11]\n",
      " [11 11 11 11 11]]\n"
     ]
    }
   ],
   "source": [
    "d = np.full_like(c, 11) # like好像。   创建一个跟c的shape一样的二维数组，用11填充\n",
    "print(d)"
   ]
  },
  {
   "cell_type": "markdown",
   "id": "50d3d13c",
   "metadata": {},
   "source": [
    "# numpy生成随机数/随机矩阵"
   ]
  },
  {
   "cell_type": "code",
   "execution_count": null,
   "id": "8d7f5f57",
   "metadata": {},
   "outputs": [],
   "source": []
  }
 ],
 "metadata": {
  "kernelspec": {
   "display_name": "Python 3 (ipykernel)",
   "language": "python",
   "name": "python3"
  },
  "language_info": {
   "codemirror_mode": {
    "name": "ipython",
    "version": 3
   },
   "file_extension": ".py",
   "mimetype": "text/x-python",
   "name": "python",
   "nbconvert_exporter": "python",
   "pygments_lexer": "ipython3",
   "version": "3.9.2"
  }
 },
 "nbformat": 4,
 "nbformat_minor": 5
}
