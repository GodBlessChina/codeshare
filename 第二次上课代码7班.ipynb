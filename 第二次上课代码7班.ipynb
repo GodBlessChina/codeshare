{
 "cells": [
  {
   "cell_type": "markdown",
   "id": "fc8c451d",
   "metadata": {},
   "source": [
    "# numpy学习 7班"
   ]
  },
  {
   "cell_type": "markdown",
   "id": "9efc1651",
   "metadata": {},
   "source": [
    "### 作业说明：\n",
    "####    代码没有标准答案，但是代码有好坏之分，衡量好坏的标准：\n",
    "####    1 代码的时间复杂度\n",
    "####    2 代码的空间复杂度\n",
    "####    3 代码书写的规范：是否符合语言规范，命名是否清晰易懂，代码是否整洁 《代码整洁之道》，代码是否重复(代码不要重复)\n",
    "            # don't repeat yourself !!! dry原则"
   ]
  },
  {
   "cell_type": "code",
   "execution_count": 5,
   "id": "9dbd161e",
   "metadata": {},
   "outputs": [],
   "source": [
    "import numpy as np"
   ]
  },
  {
   "cell_type": "code",
   "execution_count": 9,
   "id": "dfb554ed",
   "metadata": {},
   "outputs": [
    {
     "name": "stdout",
     "output_type": "stream",
     "text": [
      "[2 3 4 1 6]\n"
     ]
    }
   ],
   "source": [
    "a = np.array([2,3,4,1,6]) # array数组 使用numpy的array api创建一个一维数组\n",
    "print(a)"
   ]
  },
  {
   "cell_type": "code",
   "execution_count": 14,
   "id": "ecc83239",
   "metadata": {},
   "outputs": [
    {
     "name": "stdout",
     "output_type": "stream",
     "text": [
      "6\n"
     ]
    }
   ],
   "source": [
    "# 求a的最大值\n",
    "print(a.max())"
   ]
  },
  {
   "cell_type": "code",
   "execution_count": 16,
   "id": "15d931ad",
   "metadata": {},
   "outputs": [
    {
     "data": {
      "text/plain": [
       "numpy.ndarray"
      ]
     },
     "execution_count": 16,
     "metadata": {},
     "output_type": "execute_result"
    }
   ],
   "source": [
    "type(a)  # a是numpy.ndarray类型,不是list类型了   ndarray：n dimension array n纬数组"
   ]
  },
  {
   "cell_type": "code",
   "execution_count": 17,
   "id": "00856d96",
   "metadata": {},
   "outputs": [
    {
     "data": {
      "text/plain": [
       "list"
      ]
     },
     "execution_count": 17,
     "metadata": {},
     "output_type": "execute_result"
    }
   ],
   "source": [
    "type([2,3,45])"
   ]
  },
  {
   "cell_type": "markdown",
   "id": "47450a20",
   "metadata": {},
   "source": [
    "### numpy.ndarray对象中常用的api"
   ]
  },
  {
   "cell_type": "code",
   "execution_count": 29,
   "id": "24a1d16c",
   "metadata": {},
   "outputs": [],
   "source": [
    "a = np.array([2,3,4,1,6])\n",
    "b = np.array([[5,2],[2,6],[6,4]])\n",
    "c = np.array([[[8,5,2],[5,6,7]]    ,    [[2,6,3],[6,4,3]]])"
   ]
  },
  {
   "cell_type": "code",
   "execution_count": 32,
   "id": "41c78906",
   "metadata": {},
   "outputs": [
    {
     "name": "stdout",
     "output_type": "stream",
     "text": [
      "(5,)\n",
      "(3, 2)\n",
      "(2, 2, 3)\n"
     ]
    }
   ],
   "source": [
    "print(a.shape) # shape形状。。。  结果(5,)的括号中只有一个数字，说明数组a是1维的，并且第一层有5个元素\n",
    "print(b.shape) # (3,2)，圆括号中有两个数字，表示一个二维矩阵，第一层有3个元素，第二层有2个元素\n",
    "print(c.shape)"
   ]
  },
  {
   "cell_type": "code",
   "execution_count": 41,
   "id": "2f67a08c",
   "metadata": {},
   "outputs": [
    {
     "name": "stdout",
     "output_type": "stream",
     "text": [
      "6 | 6 | 8\n"
     ]
    }
   ],
   "source": [
    "print(f'{a.max()} | {b.max()} | {c.max()}') # 函数起名字尽量用动词  max min 最大最小"
   ]
  },
  {
   "cell_type": "code",
   "execution_count": 45,
   "id": "7a6c5a10",
   "metadata": {},
   "outputs": [
    {
     "name": "stdout",
     "output_type": "stream",
     "text": [
      "1 | 2 | 3\n"
     ]
    }
   ],
   "source": [
    "print(f'{a.ndim} | {b.ndim} | {c.ndim}') # ndim: n dimension 查看矩阵的维度"
   ]
  },
  {
   "cell_type": "code",
   "execution_count": 49,
   "id": "96a63256",
   "metadata": {},
   "outputs": [
    {
     "name": "stdout",
     "output_type": "stream",
     "text": [
      "5 | 6 | 12\n"
     ]
    }
   ],
   "source": [
    "print(f'{a.size} | {b.size} | {c.size}') # size大小 查看矩阵中元素的个数"
   ]
  },
  {
   "cell_type": "code",
   "execution_count": 53,
   "id": "8f2799c1",
   "metadata": {},
   "outputs": [
    {
     "name": "stdout",
     "output_type": "stream",
     "text": [
      "int64 | int64 | int64\n"
     ]
    }
   ],
   "source": [
    "print(f'{a.dtype} | {b.dtype} | {c.dtype}') # dtype: data type 数据类型。"
   ]
  },
  {
   "cell_type": "code",
   "execution_count": 65,
   "id": "76e7a442",
   "metadata": {},
   "outputs": [
    {
     "name": "stdout",
     "output_type": "stream",
     "text": [
      "a=[  2   3 127 127   6]\n",
      "int8 | int64 | int64\n"
     ]
    }
   ],
   "source": [
    "a = np.array([2,3,-129,127,6],dtype='int8') # int8范围是 [-128,127]\n",
    "b = np.array([[5,2],[2,6],[6,4]])\n",
    "c = np.array([[[8,5,2],[5,6,7]]    ,    [[2,6,3],[6,4,3]]])\n",
    "print(f\"a={a}\")\n",
    "print(f'{a.dtype} | {b.dtype} | {c.dtype}')"
   ]
  },
  {
   "cell_type": "markdown",
   "id": "de93d4cd",
   "metadata": {},
   "source": [
    "# numpy生成矩阵"
   ]
  },
  {
   "cell_type": "code",
   "execution_count": 81,
   "id": "8e1a2138",
   "metadata": {},
   "outputs": [
    {
     "name": "stdout",
     "output_type": "stream",
     "text": [
      "[[0. 0. 0. 0. 0.]\n",
      " [0. 0. 0. 0. 0.]\n",
      " [0. 0. 0. 0. 0.]]\n",
      "(3, 5)\n"
     ]
    }
   ],
   "source": [
    "a = np.zeros((3,5))  # zero:0 生成一个3x5的二维矩阵，元素都是0\n",
    "print(a)\n",
    "print(a.shape)"
   ]
  },
  {
   "cell_type": "code",
   "execution_count": 83,
   "id": "70f4c7c8",
   "metadata": {},
   "outputs": [
    {
     "name": "stdout",
     "output_type": "stream",
     "text": [
      "[[1. 1. 1. 1. 1. 1.]\n",
      " [1. 1. 1. 1. 1. 1.]]\n",
      "(2, 6)\n"
     ]
    }
   ],
   "source": [
    "b = np.ones((2,6)) # 生成一个二维矩阵，用1填充\n",
    "print(b)\n",
    "print(b.shape)"
   ]
  },
  {
   "cell_type": "code",
   "execution_count": 90,
   "id": "ba8a13c0",
   "metadata": {},
   "outputs": [
    {
     "name": "stdout",
     "output_type": "stream",
     "text": [
      "[[10 10 10 10 10]\n",
      " [10 10 10 10 10]\n",
      " [10 10 10 10 10]\n",
      " [10 10 10 10 10]\n",
      " [10 10 10 10 10]]\n",
      "(5, 5)\n"
     ]
    }
   ],
   "source": [
    "c = np.full((5,5), 10) # 生成一个5x5的二维矩阵，用10填充\n",
    "print(c)\n",
    "print(c.shape)"
   ]
  },
  {
   "cell_type": "code",
   "execution_count": 92,
   "id": "0f499109",
   "metadata": {},
   "outputs": [
    {
     "name": "stdout",
     "output_type": "stream",
     "text": [
      "[[11 11 11 11 11]\n",
      " [11 11 11 11 11]\n",
      " [11 11 11 11 11]\n",
      " [11 11 11 11 11]\n",
      " [11 11 11 11 11]]\n"
     ]
    }
   ],
   "source": [
    "d = np.full_like(c, 11) # like好像。   创建一个跟c的shape一样的二维数组，用11填充\n",
    "print(d)"
   ]
  },
  {
   "cell_type": "markdown",
   "id": "de915c9b",
   "metadata": {},
   "source": [
    "# numpy生成随机数/随机矩阵"
   ]
  },
  {
   "cell_type": "code",
   "execution_count": 209,
   "id": "78ec4e26",
   "metadata": {},
   "outputs": [
    {
     "name": "stdout",
     "output_type": "stream",
     "text": [
      "[[0.05159297 0.79491726 0.90693841]\n",
      " [0.12372394 0.22623117 0.05371311]\n",
      " [0.70301946 0.98410322 0.16368649]]\n"
     ]
    }
   ],
   "source": [
    "a = np.random.rand(3,3) # 随机生成一个2x2的矩阵 元素范围是(0-1)\n",
    "print(a)"
   ]
  },
  {
   "cell_type": "code",
   "execution_count": 334,
   "id": "55bd44fa",
   "metadata": {},
   "outputs": [
    {
     "name": "stdout",
     "output_type": "stream",
     "text": [
      "4\n"
     ]
    }
   ],
   "source": [
    "# 如何得到一个随机数 骰子\n",
    "i = np.random.randint(1,10) # 产生一个随机的整数。 《计算机程序设计艺术》高德纳 图灵奖   伪随机数\n",
    "print(i)"
   ]
  },
  {
   "cell_type": "code",
   "execution_count": 404,
   "id": "ff4dd7a3",
   "metadata": {},
   "outputs": [
    {
     "name": "stdout",
     "output_type": "stream",
     "text": [
      "[[ 7 47 71]\n",
      " [55 85 82]\n",
      " [ 8 67 69]]\n",
      "[[22 92 93]\n",
      " [50 86 22]\n",
      " [75 67 28]]\n"
     ]
    }
   ],
   "source": [
    "a = np.random.randint(100,size=(3,3)) # 创建一个随机的矩阵3x3  元素的范围是[0,99]\n",
    "print(a)\n",
    "a = np.random.randint(1,100,size=(3,3))  # 创建一个随机的矩阵3x3  元素的范围是[1,99]\n",
    "print(a)"
   ]
  },
  {
   "cell_type": "code",
   "execution_count": 418,
   "id": "2e5747a3",
   "metadata": {},
   "outputs": [
    {
     "name": "stdout",
     "output_type": "stream",
     "text": [
      "[[0.52587159 0.62487733 0.28694684]\n",
      " [0.95032263 0.70005226 0.74216175]\n",
      " [0.5370679  0.1699794  0.90077354]]\n"
     ]
    }
   ],
   "source": [
    "b = np.random.sample(a.shape) #sample例子。 按照a的shape形状 创建一个随机矩阵，元素是[0,1)之间的随机数\n",
    "print(b)"
   ]
  },
  {
   "cell_type": "code",
   "execution_count": 439,
   "id": "400d4af0",
   "metadata": {},
   "outputs": [
    {
     "name": "stdout",
     "output_type": "stream",
     "text": [
      "[[81 22 21]\n",
      " [60 26  8]\n",
      " [29 57 20]]\n"
     ]
    }
   ],
   "source": [
    "b = np.random.randint(1,100,size=a.shape)\n",
    "print(b)"
   ]
  },
  {
   "cell_type": "markdown",
   "id": "ac2943bf",
   "metadata": {},
   "source": [
    "### numpy 复制 矩阵"
   ]
  },
  {
   "cell_type": "code",
   "execution_count": 443,
   "id": "b9cddbd5",
   "metadata": {},
   "outputs": [
    {
     "name": "stdout",
     "output_type": "stream",
     "text": [
      "[1 1 2 2 3 3]\n"
     ]
    }
   ],
   "source": [
    "a = np.array([1,2,3])\n",
    "b = np.repeat(a,2)  # re重复 再   rename. fefactor重构\n",
    "print(b)"
   ]
  },
  {
   "cell_type": "code",
   "execution_count": 445,
   "id": "06cbbc72",
   "metadata": {},
   "outputs": [
    {
     "name": "stdout",
     "output_type": "stream",
     "text": [
      "[1 1 2 2 3 3 4 4 5 5 6 6]\n"
     ]
    }
   ],
   "source": [
    "a = np.array([[1,2],[3,4],[5,6]])\n",
    "b = np.repeat(a,2)\n",
    "print(b)"
   ]
  },
  {
   "cell_type": "markdown",
   "id": "c5af05b8",
   "metadata": {},
   "source": [
    "# axis层级  axis=0代表第1层。axis=1代表第2层。axis=2代表第3层，但a是2纬度矩阵，没有第3层，所以报错。"
   ]
  },
  {
   "cell_type": "code",
   "execution_count": 450,
   "id": "1ffdefd8",
   "metadata": {},
   "outputs": [
    {
     "ename": "AxisError",
     "evalue": "axis 2 is out of bounds for array of dimension 2",
     "output_type": "error",
     "traceback": [
      "\u001b[0;31m---------------------------------------------------------------------------\u001b[0m",
      "\u001b[0;31mAxisError\u001b[0m                                 Traceback (most recent call last)",
      "Input \u001b[0;32mIn [450]\u001b[0m, in \u001b[0;36m<cell line: 2>\u001b[0;34m()\u001b[0m\n\u001b[1;32m      1\u001b[0m a \u001b[38;5;241m=\u001b[39m np\u001b[38;5;241m.\u001b[39marray([[\u001b[38;5;241m1\u001b[39m,\u001b[38;5;241m2\u001b[39m],[\u001b[38;5;241m3\u001b[39m,\u001b[38;5;241m4\u001b[39m],[\u001b[38;5;241m5\u001b[39m,\u001b[38;5;241m6\u001b[39m]])  \u001b[38;5;66;03m# a现在是一个2维矩阵。a有2个维度，也就是有两层\u001b[39;00m\n\u001b[0;32m----> 2\u001b[0m b \u001b[38;5;241m=\u001b[39m \u001b[43mnp\u001b[49m\u001b[38;5;241;43m.\u001b[39;49m\u001b[43mrepeat\u001b[49m\u001b[43m(\u001b[49m\u001b[43ma\u001b[49m\u001b[43m,\u001b[49m\u001b[38;5;241;43m2\u001b[39;49m\u001b[43m,\u001b[49m\u001b[43maxis\u001b[49m\u001b[38;5;241;43m=\u001b[39;49m\u001b[38;5;241;43m2\u001b[39;49m\u001b[43m)\u001b[49m \u001b[38;5;66;03m# axis层级  axis=0代表第1层。axis=1代表第2层。axis=2代表第3层，但是a没有第3层，所以报错。\u001b[39;00m\n\u001b[1;32m      3\u001b[0m \u001b[38;5;28mprint\u001b[39m(b)\n",
      "File \u001b[0;32m<__array_function__ internals>:180\u001b[0m, in \u001b[0;36mrepeat\u001b[0;34m(*args, **kwargs)\u001b[0m\n",
      "File \u001b[0;32m/Library/Frameworks/Python.framework/Versions/3.9/lib/python3.9/site-packages/numpy/core/fromnumeric.py:479\u001b[0m, in \u001b[0;36mrepeat\u001b[0;34m(a, repeats, axis)\u001b[0m\n\u001b[1;32m    436\u001b[0m \u001b[38;5;129m@array_function_dispatch\u001b[39m(_repeat_dispatcher)\n\u001b[1;32m    437\u001b[0m \u001b[38;5;28;01mdef\u001b[39;00m \u001b[38;5;21mrepeat\u001b[39m(a, repeats, axis\u001b[38;5;241m=\u001b[39m\u001b[38;5;28;01mNone\u001b[39;00m):\n\u001b[1;32m    438\u001b[0m     \u001b[38;5;124;03m\"\"\"\u001b[39;00m\n\u001b[1;32m    439\u001b[0m \u001b[38;5;124;03m    Repeat elements of an array.\u001b[39;00m\n\u001b[1;32m    440\u001b[0m \n\u001b[0;32m   (...)\u001b[0m\n\u001b[1;32m    477\u001b[0m \n\u001b[1;32m    478\u001b[0m \u001b[38;5;124;03m    \"\"\"\u001b[39;00m\n\u001b[0;32m--> 479\u001b[0m     \u001b[38;5;28;01mreturn\u001b[39;00m \u001b[43m_wrapfunc\u001b[49m\u001b[43m(\u001b[49m\u001b[43ma\u001b[49m\u001b[43m,\u001b[49m\u001b[43m \u001b[49m\u001b[38;5;124;43m'\u001b[39;49m\u001b[38;5;124;43mrepeat\u001b[39;49m\u001b[38;5;124;43m'\u001b[39;49m\u001b[43m,\u001b[49m\u001b[43m \u001b[49m\u001b[43mrepeats\u001b[49m\u001b[43m,\u001b[49m\u001b[43m \u001b[49m\u001b[43maxis\u001b[49m\u001b[38;5;241;43m=\u001b[39;49m\u001b[43maxis\u001b[49m\u001b[43m)\u001b[49m\n",
      "File \u001b[0;32m/Library/Frameworks/Python.framework/Versions/3.9/lib/python3.9/site-packages/numpy/core/fromnumeric.py:57\u001b[0m, in \u001b[0;36m_wrapfunc\u001b[0;34m(obj, method, *args, **kwds)\u001b[0m\n\u001b[1;32m     54\u001b[0m     \u001b[38;5;28;01mreturn\u001b[39;00m _wrapit(obj, method, \u001b[38;5;241m*\u001b[39margs, \u001b[38;5;241m*\u001b[39m\u001b[38;5;241m*\u001b[39mkwds)\n\u001b[1;32m     56\u001b[0m \u001b[38;5;28;01mtry\u001b[39;00m:\n\u001b[0;32m---> 57\u001b[0m     \u001b[38;5;28;01mreturn\u001b[39;00m \u001b[43mbound\u001b[49m\u001b[43m(\u001b[49m\u001b[38;5;241;43m*\u001b[39;49m\u001b[43margs\u001b[49m\u001b[43m,\u001b[49m\u001b[43m \u001b[49m\u001b[38;5;241;43m*\u001b[39;49m\u001b[38;5;241;43m*\u001b[39;49m\u001b[43mkwds\u001b[49m\u001b[43m)\u001b[49m\n\u001b[1;32m     58\u001b[0m \u001b[38;5;28;01mexcept\u001b[39;00m \u001b[38;5;167;01mTypeError\u001b[39;00m:\n\u001b[1;32m     59\u001b[0m     \u001b[38;5;66;03m# A TypeError occurs if the object does have such a method in its\u001b[39;00m\n\u001b[1;32m     60\u001b[0m     \u001b[38;5;66;03m# class, but its signature is not identical to that of NumPy's. This\u001b[39;00m\n\u001b[0;32m   (...)\u001b[0m\n\u001b[1;32m     64\u001b[0m     \u001b[38;5;66;03m# Call _wrapit from within the except clause to ensure a potential\u001b[39;00m\n\u001b[1;32m     65\u001b[0m     \u001b[38;5;66;03m# exception has a traceback chain.\u001b[39;00m\n\u001b[1;32m     66\u001b[0m     \u001b[38;5;28;01mreturn\u001b[39;00m _wrapit(obj, method, \u001b[38;5;241m*\u001b[39margs, \u001b[38;5;241m*\u001b[39m\u001b[38;5;241m*\u001b[39mkwds)\n",
      "\u001b[0;31mAxisError\u001b[0m: axis 2 is out of bounds for array of dimension 2"
     ]
    }
   ],
   "source": [
    "a = np.array([[1,2],[3,4],[5,6]])  # a现在是一个2维矩阵。a有2个维度，也就是有两层\n",
    "b = np.repeat(a,2,axis=2) \n",
    "print(b)"
   ]
  },
  {
   "cell_type": "code",
   "execution_count": 456,
   "id": "2a306585",
   "metadata": {},
   "outputs": [
    {
     "name": "stdout",
     "output_type": "stream",
     "text": [
      "[[1 1 2 2]\n",
      " [3 3 4 4]\n",
      " [5 5 6 6]]\n"
     ]
    }
   ],
   "source": [
    "a = np.array([[1,2],[3,4],[5,6]])  # a现在是一个2维矩阵。a有2个维度，也就是有两层\n",
    "b = np.repeat(a,2,axis=1) # axis层级  axis=0代表第1层。axis=1代表第2层。axis=2代表第3层，但是a没有第3层，所以报错。\n",
    "print(b)"
   ]
  },
  {
   "cell_type": "code",
   "execution_count": 467,
   "id": "48277bad",
   "metadata": {},
   "outputs": [
    {
     "name": "stdout",
     "output_type": "stream",
     "text": [
      "[[[8 5 2]\n",
      "  [5 6 7]]\n",
      "\n",
      " [[8 5 2]\n",
      "  [5 6 7]]\n",
      "\n",
      " [[2 6 3]\n",
      "  [6 4 3]]\n",
      "\n",
      " [[2 6 3]\n",
      "  [6 4 3]]]\n"
     ]
    }
   ],
   "source": [
    "c = np.array([[[8,5,2],[5,6,7]] , [[2,6,3],[6,4,3]]])\n",
    "b = np.repeat(c,2,axis=0) # axis层级  axis=0代表第1层。axis=1代表第2层。axis=2代表第3层，但是a没有第3层，所以报错。\n",
    "print(b)"
   ]
  },
  {
   "cell_type": "code",
   "execution_count": 472,
   "id": "9ae643c1",
   "metadata": {},
   "outputs": [
    {
     "name": "stdout",
     "output_type": "stream",
     "text": [
      "[[1. 0. 0. 0. 0.]\n",
      " [0. 1. 0. 0. 0.]\n",
      " [0. 0. 1. 0. 0.]\n",
      " [0. 0. 0. 1. 0.]\n",
      " [0. 0. 0. 0. 1.]]\n"
     ]
    }
   ],
   "source": [
    "a = np.identity(5) # 生成一个3x3矩阵，而且这个矩阵是一个 单位矩阵：identity matrix\n",
    "print(a)"
   ]
  },
  {
   "cell_type": "code",
   "execution_count": 473,
   "id": "db05afcc",
   "metadata": {},
   "outputs": [],
   "source": [
    "### 矩阵的索引，切隔"
   ]
  },
  {
   "cell_type": "code",
   "execution_count": 505,
   "id": "612b46db",
   "metadata": {},
   "outputs": [],
   "source": [
    "a = np.array([2,3,4,1,6])\n",
    "b = np.array([[5,2,12,3,4],[2,61,2,3,4],[6,5,3,2,4]])\n",
    "c = np.array([[[8,5,2],[5,6,7]]    ,    [[2,6,3],[6,4,3]]])"
   ]
  },
  {
   "cell_type": "code",
   "execution_count": 492,
   "id": "4d39e925",
   "metadata": {},
   "outputs": [
    {
     "data": {
      "text/plain": [
       "array([2, 3, 4])"
      ]
     },
     "execution_count": 492,
     "metadata": {},
     "output_type": "execute_result"
    }
   ],
   "source": [
    "a[0:3]"
   ]
  },
  {
   "cell_type": "code",
   "execution_count": 493,
   "id": "57564b04",
   "metadata": {},
   "outputs": [
    {
     "name": "stdout",
     "output_type": "stream",
     "text": [
      "5\n",
      "5\n"
     ]
    }
   ],
   "source": [
    "print(b[2][1])\n",
    "print(b[2,1])"
   ]
  },
  {
   "cell_type": "code",
   "execution_count": 513,
   "id": "12d3beb2",
   "metadata": {},
   "outputs": [
    {
     "name": "stdout",
     "output_type": "stream",
     "text": [
      "[0.]\n",
      "[0.]\n"
     ]
    }
   ],
   "source": [
    "print(b[0][2:5])\n",
    "print(b[0,2:5])"
   ]
  },
  {
   "cell_type": "code",
   "execution_count": 521,
   "id": "c503ffd0",
   "metadata": {},
   "outputs": [
    {
     "name": "stdout",
     "output_type": "stream",
     "text": [
      "[1 3 4 5]\n",
      "[1 3 4 5]\n"
     ]
    }
   ],
   "source": [
    "a = np.array([2,3,4,5])\n",
    "b = a  # 此处赋值是赋的引用\n",
    "b[0] = 1\n",
    "print(a)\n",
    "print(b)"
   ]
  },
  {
   "cell_type": "markdown",
   "id": "3a90e99e",
   "metadata": {},
   "source": [
    "## 复制的时候要注意了！！！"
   ]
  },
  {
   "cell_type": "code",
   "execution_count": 520,
   "id": "a5392392",
   "metadata": {},
   "outputs": [
    {
     "name": "stdout",
     "output_type": "stream",
     "text": [
      "[2 3 4 5]\n",
      "[1 3 4 5]\n"
     ]
    }
   ],
   "source": [
    "a = np.array([2,3,4,5])\n",
    "b = a.copy()  # 此处赋值是赋的值\n",
    "b[0] = 1\n",
    "print(a)\n",
    "print(b)"
   ]
  },
  {
   "cell_type": "markdown",
   "id": "d877ede4",
   "metadata": {},
   "source": [
    "# 练习1 ： 生成一个符合图片要求的矩阵"
   ]
  },
  {
   "cell_type": "code",
   "execution_count": 510,
   "id": "67b1af95",
   "metadata": {},
   "outputs": [
    {
     "name": "stdout",
     "output_type": "stream",
     "text": [
      "[[1. 1. 1. 1. 1.]\n",
      " [1. 0. 0. 0. 1.]\n",
      " [1. 0. 9. 0. 1.]\n",
      " [1. 0. 0. 0. 1.]\n",
      " [1. 1. 1. 1. 1.]]\n"
     ]
    }
   ],
   "source": [
    "a = np.ones((5,5))\n",
    "b = np.zeros((3,3))\n",
    "b[1,1] = 9  # 将b中间的值改成9\n",
    "a[1:-1,1:-1] = b   # 将a中中间的区域替换成b\n",
    "print(a)"
   ]
  },
  {
   "cell_type": "markdown",
   "id": "aabb2adf",
   "metadata": {},
   "source": [
    "# 练习2 ： 加载txt文件中的矩阵数据"
   ]
  },
  {
   "cell_type": "code",
   "execution_count": 544,
   "id": "ca0b50e7",
   "metadata": {},
   "outputs": [
    {
     "name": "stdout",
     "output_type": "stream",
     "text": [
      "1\t2\t3\t4\t5\t6\t\n",
      "7\t6\t4\t3\t2\t1\t\n",
      "5\t6\t7\t8\t9\t3\t\n",
      "5\t4\t3\t4\t5\t6\t\n"
     ]
    }
   ],
   "source": [
    "'''\n",
    "不用numpy，获取fdata.txt中的数据\n",
    "'''\n",
    "f = open(\"fdata.txt\",\"r\", encoding='utf-8')  # 有的同学的文件编码是 gbk\n",
    "lines = f.readlines() # 读取所有的行\n",
    "\n",
    "# TODO 此处定义一个二维的列表 alldatas\n",
    "\n",
    "for line in lines:\n",
    "    #print(line)\n",
    "    # 去掉换行符\n",
    "    line = line.replace(\"\\n\",\"\")\n",
    "    # 将数据按照逗号 切开\n",
    "    numbers = line.split(\",\")\n",
    "    #print(numbers)\n",
    "    \n",
    "    # 此处定义一个一维的列表 rows\n",
    "    \n",
    "    for number in numbers:\n",
    "        \n",
    "        # TODO 此处 rows.append(number)\n",
    "        \n",
    "        print(number, end='\\t') # end=\"\" 不换行\n",
    "    print()\n",
    "    # TODO 此处 alldatas.append(rows)\n",
    "\n",
    "    ### TODO 将所有的数据放到一个 list 中\n",
    "\n",
    "# 下面这种方式也行\n",
    "#for line in f:\n",
    "#    print(line)"
   ]
  },
  {
   "cell_type": "markdown",
   "id": "f3265368",
   "metadata": {},
   "source": [
    "# 下面的代码是使用numpy加载txt中的数据"
   ]
  },
  {
   "cell_type": "code",
   "execution_count": 539,
   "id": "da700505",
   "metadata": {},
   "outputs": [],
   "source": [
    "import numpy as np\n",
    "\n",
    "arr = np.genfromtxt(\"fdata.txt\",delimiter=',') # 加载 fata.txt中的数据，用逗号切开，得到一个numpy.ndarray对象arr"
   ]
  },
  {
   "cell_type": "code",
   "execution_count": 540,
   "id": "7876a80f",
   "metadata": {},
   "outputs": [
    {
     "name": "stdout",
     "output_type": "stream",
     "text": [
      "修改之前的数据类型: float64\n"
     ]
    }
   ],
   "source": [
    "print(\"修改之前的数据类型:\",arr.dtype)"
   ]
  },
  {
   "cell_type": "code",
   "execution_count": 541,
   "id": "de8180b7",
   "metadata": {},
   "outputs": [
    {
     "name": "stdout",
     "output_type": "stream",
     "text": [
      "修改之后的数据类型: int8\n"
     ]
    }
   ],
   "source": [
    "# 修改arr的默认数据类型 float64 -> int8\n",
    "arr = arr.astype('int8')\n",
    "print(\"修改之后的数据类型:\",arr.dtype)"
   ]
  },
  {
   "cell_type": "code",
   "execution_count": 542,
   "id": "980b14ee",
   "metadata": {},
   "outputs": [
    {
     "name": "stdout",
     "output_type": "stream",
     "text": [
      "[[1 2 3 4 5 6]\n",
      " [7 6 4 3 2 1]\n",
      " [5 6 7 8 9 3]\n",
      " [5 4 3 4 5 6]]\n"
     ]
    }
   ],
   "source": [
    "print(arr)"
   ]
  },
  {
   "cell_type": "code",
   "execution_count": 545,
   "id": "e00614d3",
   "metadata": {},
   "outputs": [
    {
     "name": "stdout",
     "output_type": "stream",
     "text": [
      "<class 'numpy.ndarray'>\n",
      "(4, 6)\n"
     ]
    }
   ],
   "source": [
    "print(type(arr))\n",
    "print(arr.shape)"
   ]
  },
  {
   "cell_type": "code",
   "execution_count": null,
   "id": "71fc8afb",
   "metadata": {},
   "outputs": [],
   "source": []
  },
  {
   "cell_type": "code",
   "execution_count": 546,
   "id": "19fcecee",
   "metadata": {},
   "outputs": [
    {
     "name": "stdout",
     "output_type": "stream",
     "text": [
      "[[1 2 3 4 5 6]\n",
      " [7 6 4 3 2 1]\n",
      " [5 6 7 8 9 3]\n",
      " [5 4 3 4 5 6]]\n"
     ]
    }
   ],
   "source": [
    "# 完整的代码\n",
    "import numpy as np\n",
    "\n",
    "arr = np.genfromtxt(\"fdata.txt\",delimiter=',') # 加载 fata.txt中的数据，用逗号切开，得到一个numpy.ndarray对象arr\n",
    "arr = arr.astype('int8')\n",
    "print(arr)"
   ]
  },
  {
   "cell_type": "code",
   "execution_count": 547,
   "id": "f77ec80d",
   "metadata": {},
   "outputs": [],
   "source": [
    "# 矩阵的点乘 算术乘"
   ]
  },
  {
   "cell_type": "code",
   "execution_count": 549,
   "id": "6c22ae02",
   "metadata": {},
   "outputs": [
    {
     "data": {
      "text/plain": [
       "array([24, 69, 96, 11, 96])"
      ]
     },
     "execution_count": 549,
     "metadata": {},
     "output_type": "execute_result"
    }
   ],
   "source": [
    "a = np.array([2,3,4,1,6]) \n",
    "b = np.array([12,23,24,11,16]) \n",
    "a*b"
   ]
  },
  {
   "cell_type": "code",
   "execution_count": 554,
   "id": "957bd624",
   "metadata": {},
   "outputs": [
    {
     "data": {
      "text/plain": [
       "array([[19, 12],\n",
       "       [43, 30]])"
      ]
     },
     "execution_count": 554,
     "metadata": {},
     "output_type": "execute_result"
    }
   ],
   "source": [
    "# 点乘: 左边矩阵的行 乘以。右边矩阵的列\n",
    "a = np.array([[1,2],[3,4]]) \n",
    "b = np.array([[5,6],[7,3]]) \n",
    "np.dot(a,b)"
   ]
  }
 ],
 "metadata": {
  "kernelspec": {
   "display_name": "Python 3 (ipykernel)",
   "language": "python",
   "name": "python3"
  },
  "language_info": {
   "codemirror_mode": {
    "name": "ipython",
    "version": 3
   },
   "file_extension": ".py",
   "mimetype": "text/x-python",
   "name": "python",
   "nbconvert_exporter": "python",
   "pygments_lexer": "ipython3",
   "version": "3.9.2"
  }
 },
 "nbformat": 4,
 "nbformat_minor": 5
}
