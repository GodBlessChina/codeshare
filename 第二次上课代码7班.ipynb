{
 "cells": [
  {
   "cell_type": "markdown",
   "id": "4505e16e",
   "metadata": {},
   "source": [
    "# numpy学习"
   ]
  },
  {
   "cell_type": "code",
   "execution_count": 5,
   "id": "f03d7f9d",
   "metadata": {},
   "outputs": [],
   "source": [
    "import numpy as np"
   ]
  },
  {
   "cell_type": "code",
   "execution_count": 9,
   "id": "e37eed04",
   "metadata": {},
   "outputs": [
    {
     "name": "stdout",
     "output_type": "stream",
     "text": [
      "[2 3 4 1 6]\n"
     ]
    }
   ],
   "source": [
    "a = np.array([2,3,4,1,6]) # array数组 使用numpy的array api创建一个一维数组\n",
    "print(a)"
   ]
  },
  {
   "cell_type": "code",
   "execution_count": 14,
   "id": "c0bb7f88",
   "metadata": {},
   "outputs": [
    {
     "name": "stdout",
     "output_type": "stream",
     "text": [
      "6\n"
     ]
    }
   ],
   "source": [
    "# 求a的最大值\n",
    "print(a.max())"
   ]
  },
  {
   "cell_type": "code",
   "execution_count": 16,
   "id": "ca48d852",
   "metadata": {},
   "outputs": [
    {
     "data": {
      "text/plain": [
       "numpy.ndarray"
      ]
     },
     "execution_count": 16,
     "metadata": {},
     "output_type": "execute_result"
    }
   ],
   "source": [
    "type(a)  # a是numpy.ndarray类型,不是list类型了   ndarray：n dimension array n纬数组"
   ]
  },
  {
   "cell_type": "code",
   "execution_count": 17,
   "id": "ffab81f3",
   "metadata": {},
   "outputs": [
    {
     "data": {
      "text/plain": [
       "list"
      ]
     },
     "execution_count": 17,
     "metadata": {},
     "output_type": "execute_result"
    }
   ],
   "source": [
    "type([2,3,45])"
   ]
  },
  {
   "cell_type": "markdown",
   "id": "727dcdec",
   "metadata": {},
   "source": [
    "### numpy.ndarray对象中常用的api"
   ]
  },
  {
   "cell_type": "code",
   "execution_count": 19,
   "id": "d3eef1d9",
   "metadata": {},
   "outputs": [],
   "source": [
    "a = np.array([2,3,4,1,6])"
   ]
  },
  {
   "cell_type": "code",
   "execution_count": 20,
   "id": "801557ff",
   "metadata": {},
   "outputs": [
    {
     "name": "stdout",
     "output_type": "stream",
     "text": [
      "(5,)\n"
     ]
    }
   ],
   "source": [
    "print(a.shape) # shape形状。。。  结果(5,)的括号中只有一个数字，说明数组a是1维的，并且第一层有5个元素"
   ]
  },
  {
   "cell_type": "code",
   "execution_count": null,
   "id": "159cff0b",
   "metadata": {},
   "outputs": [],
   "source": []
  }
 ],
 "metadata": {
  "kernelspec": {
   "display_name": "Python 3 (ipykernel)",
   "language": "python",
   "name": "python3"
  },
  "language_info": {
   "codemirror_mode": {
    "name": "ipython",
    "version": 3
   },
   "file_extension": ".py",
   "mimetype": "text/x-python",
   "name": "python",
   "nbconvert_exporter": "python",
   "pygments_lexer": "ipython3",
   "version": "3.9.2"
  }
 },
 "nbformat": 4,
 "nbformat_minor": 5
}
