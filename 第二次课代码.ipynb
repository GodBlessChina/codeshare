{
 "cells": [
  {
   "cell_type": "markdown",
   "id": "9a985d63",
   "metadata": {},
   "source": [
    "# numpy授课代码 周靖轩"
   ]
  },
  {
   "cell_type": "code",
   "execution_count": 1,
   "id": "05256fb0",
   "metadata": {},
   "outputs": [],
   "source": [
    "import numpy as np"
   ]
  },
  {
   "cell_type": "code",
   "execution_count": 2,
   "id": "bf0a3e2f",
   "metadata": {},
   "outputs": [
    {
     "data": {
      "text/plain": [
       "'\\n快捷键: \\n    回车 换行\\n    shift回车 换行\\n    ctrl+回车 运行+换行\\n    alt+回车  运行\\n'"
      ]
     },
     "execution_count": 2,
     "metadata": {},
     "output_type": "execute_result"
    }
   ],
   "source": [
    "'''\n",
    "快捷键: \n",
    "    回车 换行\n",
    "    shift回车 换行\n",
    "    ctrl+回车 运行+换行\n",
    "    alt+回车  运行\n",
    "'''"
   ]
  },
  {
   "cell_type": "code",
   "execution_count": 334,
   "id": "48778de9",
   "metadata": {},
   "outputs": [],
   "source": [
    "a = np.array([1,2,3,4,5],dtype='int8')  # a是一个 ndarray类型的一维数组\n",
    "b = np.array([[1,2,3],[1,3,4]])\n",
    "c = np.array([[[11,12,13],\n",
    "               [23,24,25]] ,\n",
    "              [[35,360,37],\n",
    "               [46,47,48]]])"
   ]
  },
  {
   "cell_type": "code",
   "execution_count": 32,
   "id": "3959c5a6",
   "metadata": {},
   "outputs": [
    {
     "name": "stdout",
     "output_type": "stream",
     "text": [
      "(5,) | (2, 3) | (2, 2, 3)\n"
     ]
    }
   ],
   "source": [
    "print(a.shape, '|', b.shape, '|', c.shape) # 查看数组的形状"
   ]
  },
  {
   "cell_type": "code",
   "execution_count": 33,
   "id": "ec1097ed",
   "metadata": {},
   "outputs": [
    {
     "name": "stdout",
     "output_type": "stream",
     "text": [
      "1 | 2 | 3\n"
     ]
    }
   ],
   "source": [
    "print(a.ndim,'|',  b.ndim, '|',  c.ndim) # ndim: n dimension n维  查看数组的维度"
   ]
  },
  {
   "cell_type": "code",
   "execution_count": 34,
   "id": "8b0985c3",
   "metadata": {},
   "outputs": [
    {
     "name": "stdout",
     "output_type": "stream",
     "text": [
      "5 | 6 | 12\n"
     ]
    }
   ],
   "source": [
    "print(a.size, '|', b.size, '|', c.size) # size(大小) 元素的个数"
   ]
  },
  {
   "cell_type": "code",
   "execution_count": 56,
   "id": "a083a5aa",
   "metadata": {},
   "outputs": [
    {
     "name": "stdout",
     "output_type": "stream",
     "text": [
      "5 4 360 | 1 1 11\n"
     ]
    }
   ],
   "source": [
    "print(a.max(),b.max(), c.max(),\"|\", a.min(), b.min(), c.min() ) # max:最大值    min:最小值 axis=0代表第一次"
   ]
  },
  {
   "cell_type": "code",
   "execution_count": 76,
   "id": "46c8c074",
   "metadata": {},
   "outputs": [
    {
     "name": "stdout",
     "output_type": "stream",
     "text": [
      "a=[   1    2 -128  127    5] | a类型:int8\n"
     ]
    }
   ],
   "source": [
    "## 查看数据的类型\n",
    "a = np.array([1,2,-128,127,5],dtype='int8')  # int8最大表示-128～127\n",
    "atype = a.dtype # dtype: data type数据类型\n",
    "print(f'a={a} | a类型:{atype}')"
   ]
  },
  {
   "cell_type": "code",
   "execution_count": 52,
   "id": "8468b4df",
   "metadata": {},
   "outputs": [],
   "source": [
    "d = np.zeros((2,3)) # 生成一个指定维度的数组，值全部是0\n",
    "e = np.ones((5,5))\n",
    "f = np.identity(5) # 生成一个 秩为5的单位矩阵 "
   ]
  },
  {
   "cell_type": "code",
   "execution_count": 77,
   "id": "708f965e",
   "metadata": {},
   "outputs": [
    {
     "name": "stdout",
     "output_type": "stream",
     "text": [
      "[[0. 0. 0.]\n",
      " [0. 0. 0.]]\n",
      "[[1. 1. 1. 1. 1.]\n",
      " [1. 1. 1. 1. 1.]\n",
      " [1. 1. 1. 1. 1.]\n",
      " [1. 1. 1. 1. 1.]\n",
      " [1. 1. 1. 1. 1.]]\n",
      "[[1. 0. 0. 0. 0.]\n",
      " [0. 1. 0. 0. 0.]\n",
      " [0. 0. 1. 0. 0.]\n",
      " [0. 0. 0. 1. 0.]\n",
      " [0. 0. 0. 0. 1.]]\n"
     ]
    }
   ],
   "source": [
    "print(d)\n",
    "print(e)\n",
    "print(f)"
   ]
  },
  {
   "cell_type": "code",
   "execution_count": 92,
   "id": "1bef28d3",
   "metadata": {},
   "outputs": [
    {
     "name": "stdout",
     "output_type": "stream",
     "text": [
      "[[-1 -1 -1]\n",
      " [-1 -1 -1]]\n",
      "[[3 3 3]\n",
      " [3 3 3]]\n"
     ]
    }
   ],
   "source": [
    "g = np.full((2,3), -1) # full填充  创建一个新的矩阵数组，指定矩阵的维度(2,3)和默认值-1\n",
    "h = np.full(b.shape, 3)\n",
    "print(g)\n",
    "print(h)"
   ]
  },
  {
   "cell_type": "code",
   "execution_count": 95,
   "id": "4c94bbc5",
   "metadata": {},
   "outputs": [
    {
     "name": "stdout",
     "output_type": "stream",
     "text": [
      "[[[9 9 9]\n",
      "  [9 9 9]]\n",
      "\n",
      " [[9 9 9]\n",
      "  [9 9 9]]]\n"
     ]
    }
   ],
   "source": [
    "i = np.full_like(c, 9)\n",
    "print(i)"
   ]
  },
  {
   "cell_type": "code",
   "execution_count": 166,
   "id": "969fb0f7",
   "metadata": {},
   "outputs": [
    {
     "name": "stdout",
     "output_type": "stream",
     "text": [
      "[[0.69921686 0.80894285 0.71596109]\n",
      " [0.49281296 0.78667522 0.83670803]\n",
      " [0.53782912 0.93178151 0.08995131]]\n"
     ]
    }
   ],
   "source": [
    "# 随机生成一个2x2的矩阵，随机数介于0～1之间\n",
    "j = np.random.rand(3,3)\n",
    "print(j)"
   ]
  },
  {
   "cell_type": "code",
   "execution_count": 267,
   "id": "94c02fc1",
   "metadata": {},
   "outputs": [
    {
     "name": "stdout",
     "output_type": "stream",
     "text": [
      "7\n"
     ]
    }
   ],
   "source": [
    "# 随机生成一个随机数,整数.. 《计算机程序设计艺术》随机数的生成算法，伪随机。如果现在要有一个【随机】整数1～6之间，怎么产生？？？掷骰子\n",
    "# TODO 考虑一下，如何用代码生成真正的随机数？\n",
    "k = np.random.randint(1,10)  # 随机数的范围： [1,9] 或者 [1,10)\n",
    "print(k)"
   ]
  },
  {
   "cell_type": "code",
   "execution_count": 271,
   "id": "715de108",
   "metadata": {},
   "outputs": [
    {
     "data": {
      "text/plain": [
       "array([[[0.49990346, 0.65078886, 0.98299948],\n",
       "        [0.80350632, 0.68440337, 0.8606641 ]],\n",
       "\n",
       "       [[0.68118546, 0.87769261, 0.00565494],\n",
       "        [0.10655668, 0.48301942, 0.29354671]]])"
      ]
     },
     "execution_count": 271,
     "metadata": {},
     "output_type": "execute_result"
    }
   ],
   "source": [
    "np.random.random_sample(c.shape) #生成一个类似于c的随机矩阵  sample：\"例子\"的意思  c.shape: (2,2,3)"
   ]
  },
  {
   "cell_type": "code",
   "execution_count": 329,
   "id": "88b8b9c0",
   "metadata": {},
   "outputs": [
    {
     "data": {
      "text/plain": [
       "array([[17, 32, 39],\n",
       "       [38, 37, 15]])"
      ]
     },
     "execution_count": 329,
     "metadata": {},
     "output_type": "execute_result"
    }
   ],
   "source": [
    "np.random.randint(1,100,size=(2,3)) # 生成一个随机矩阵，矩阵的shape是(2,3)，元素都是随机的int，范围【1，99】"
   ]
  },
  {
   "cell_type": "code",
   "execution_count": 353,
   "id": "329adad4",
   "metadata": {},
   "outputs": [
    {
     "name": "stdout",
     "output_type": "stream",
     "text": [
      "[1 1 1 1 1 2 2 2 2 2 3 3 3 3 3 4 4 4 4 4 5 5 5 5 5]\n",
      "[[[ 11  12  13]\n",
      "  [ 23  24  25]]\n",
      "\n",
      " [[ 35 360  37]\n",
      "  [ 46  47  48]]]\n",
      "-----------------------\n",
      "[[[ 11  12  13]\n",
      "  [ 23  24  25]]\n",
      "\n",
      " [[ 11  12  13]\n",
      "  [ 23  24  25]]\n",
      "\n",
      " [[ 35 360  37]\n",
      "  [ 46  47  48]]\n",
      "\n",
      " [[ 35 360  37]\n",
      "  [ 46  47  48]]]\n"
     ]
    }
   ],
   "source": [
    "# 复制/重复 一个矩阵/数组 rename：重命名 refactor：重构   repeat：重复\n",
    "l = np.repeat(a,5)\n",
    "print(l)\n",
    "ll = np.repeat(c,2,axis=0) # axis层级 axis=0代表第1层\n",
    "print(c)\n",
    "print('-----------------------')\n",
    "print(ll)"
   ]
  },
  {
   "cell_type": "code",
   "execution_count": 435,
   "id": "5e1135be",
   "metadata": {},
   "outputs": [
    {
     "name": "stdout",
     "output_type": "stream",
     "text": [
      "[[11 12 13]\n",
      " [21 23 24]]\n",
      "24\n",
      "24\n",
      "[[21 23 24]]\n"
     ]
    }
   ],
   "source": [
    "b = np.array([[11,12,13],[21,23,24]])\n",
    "print(b)\n",
    "print(b[1,2])  # 写法比较简单\n",
    "print(b[1][2]) # 上下两种写法结果一样\n",
    "print(b[0:2][1:2])  # 先取出b的第0,1个元素[11,12,13],[21,23,24],然后再取出前一个结果中的[1:2]第2个[21,23,24]"
   ]
  },
  {
   "cell_type": "markdown",
   "id": "fe05bc4c",
   "metadata": {},
   "source": [
    "##### 练习"
   ]
  },
  {
   "cell_type": "code",
   "execution_count": 382,
   "id": "dc6b1d82",
   "metadata": {},
   "outputs": [
    {
     "data": {
      "text/plain": [
       "array([[1., 1., 1., 1., 1.],\n",
       "       [1., 0., 0., 0., 1.],\n",
       "       [1., 0., 9., 0., 1.],\n",
       "       [1., 0., 0., 0., 1.],\n",
       "       [1., 1., 1., 1., 1.]])"
      ]
     },
     "execution_count": 382,
     "metadata": {},
     "output_type": "execute_result"
    }
   ],
   "source": [
    "arr5 = np.ones((5,5))\n",
    "arr3 = np.zeros((3,3))\n",
    "arr3[1,1] = 9\n",
    "arr5[1:-1,1:-1] = arr3 # 把中间的部分替换掉\n",
    "print(arr5)"
   ]
  },
  {
   "cell_type": "markdown",
   "id": "ce128fca",
   "metadata": {},
   "source": [
    "### numpy矩阵的复制。复制的时候要注意"
   ]
  },
  {
   "cell_type": "code",
   "execution_count": 386,
   "id": "960b96a6",
   "metadata": {},
   "outputs": [
    {
     "name": "stdout",
     "output_type": "stream",
     "text": [
      "[100   2   3   4   5]\n",
      "[100   2   3   4   5]\n"
     ]
    }
   ],
   "source": [
    "arr = np.array([1,2,3,4,5])\n",
    "arrc = arr # arrc是arr的一个复制\n",
    "arrc[0] = 100\n",
    "print(arr)\n",
    "print(arrc)"
   ]
  },
  {
   "cell_type": "code",
   "execution_count": 390,
   "id": "814e21ab",
   "metadata": {},
   "outputs": [
    {
     "name": "stdout",
     "output_type": "stream",
     "text": [
      "[1 2 3 4 5]\n",
      "[100   2   3   4   5]\n"
     ]
    }
   ],
   "source": [
    "arr2 = np.array([1,2,3,4,5])\n",
    "arrc2=arr2.copy() # copy复制\n",
    "arrc2[0] = 100\n",
    "print(arr2)\n",
    "print(arrc2)"
   ]
  },
  {
   "cell_type": "markdown",
   "id": "e5282bed",
   "metadata": {},
   "source": [
    "### numpy矩阵的 + - * / **平方"
   ]
  },
  {
   "cell_type": "code",
   "execution_count": 408,
   "id": "a165e404",
   "metadata": {},
   "outputs": [],
   "source": [
    "a = np.array([1,2,3,4,5],dtype='int8') \n",
    "b = np.array([11,22,33,44,55],dtype='int8') "
   ]
  },
  {
   "cell_type": "code",
   "execution_count": 399,
   "id": "ac029440",
   "metadata": {},
   "outputs": [
    {
     "data": {
      "text/plain": [
       "array([2, 3, 4, 5, 6], dtype=int8)"
      ]
     },
     "execution_count": 399,
     "metadata": {},
     "output_type": "execute_result"
    }
   ],
   "source": [
    "a+1"
   ]
  },
  {
   "cell_type": "code",
   "execution_count": 400,
   "id": "874bbf17",
   "metadata": {},
   "outputs": [
    {
     "data": {
      "text/plain": [
       "array([0, 1, 2, 3, 4], dtype=int8)"
      ]
     },
     "execution_count": 400,
     "metadata": {},
     "output_type": "execute_result"
    }
   ],
   "source": [
    "a-1"
   ]
  },
  {
   "cell_type": "code",
   "execution_count": 401,
   "id": "e4e81397",
   "metadata": {},
   "outputs": [
    {
     "data": {
      "text/plain": [
       "array([ 2,  4,  6,  8, 10], dtype=int8)"
      ]
     },
     "execution_count": 401,
     "metadata": {},
     "output_type": "execute_result"
    }
   ],
   "source": [
    "a*2"
   ]
  },
  {
   "cell_type": "code",
   "execution_count": 402,
   "id": "7b10cf98",
   "metadata": {},
   "outputs": [
    {
     "data": {
      "text/plain": [
       "array([0.5, 1. , 1.5, 2. , 2.5])"
      ]
     },
     "execution_count": 402,
     "metadata": {},
     "output_type": "execute_result"
    }
   ],
   "source": [
    "a/2"
   ]
  },
  {
   "cell_type": "code",
   "execution_count": 404,
   "id": "3c68d029",
   "metadata": {},
   "outputs": [
    {
     "data": {
      "text/plain": [
       "array([ 1,  4,  9, 16, 25], dtype=int8)"
      ]
     },
     "execution_count": 404,
     "metadata": {},
     "output_type": "execute_result"
    }
   ],
   "source": [
    "a**2"
   ]
  },
  {
   "cell_type": "code",
   "execution_count": 422,
   "id": "215adf7a",
   "metadata": {},
   "outputs": [
    {
     "name": "stdout",
     "output_type": "stream",
     "text": [
      "[[6 8]\n",
      " [6 6]]\n",
      "[[-4 -4]\n",
      " [ 0  2]]\n",
      "[[ 5 12]\n",
      " [ 9  8]]\n",
      "[[0.2        0.33333333]\n",
      " [1.         2.        ]]\n"
     ]
    }
   ],
   "source": [
    "print(a+b)\n",
    "print(a-b)\n",
    "print(a*b) # a*b 是两个矩阵的算术乘。 在数学中矩阵可以 点乘\n",
    "print(a/b)"
   ]
  },
  {
   "cell_type": "markdown",
   "id": "a3a3d707",
   "metadata": {},
   "source": [
    "# 矩阵的乘法： 算术乘  点乘"
   ]
  },
  {
   "cell_type": "code",
   "execution_count": 418,
   "id": "ccc12659",
   "metadata": {},
   "outputs": [],
   "source": [
    "a = np.array([[1,2],[3,4]])\n",
    "b = np.array([[5,6],[3,2]])\n"
   ]
  },
  {
   "cell_type": "code",
   "execution_count": 419,
   "id": "a8abc697",
   "metadata": {},
   "outputs": [
    {
     "data": {
      "text/plain": [
       "array([[ 5, 12],\n",
       "       [ 9,  8]])"
      ]
     },
     "execution_count": 419,
     "metadata": {},
     "output_type": "execute_result"
    }
   ],
   "source": [
    "a*b  # 算术乘"
   ]
  },
  {
   "cell_type": "code",
   "execution_count": 420,
   "id": "109564bd",
   "metadata": {},
   "outputs": [
    {
     "data": {
      "text/plain": [
       "array([[11, 10],\n",
       "       [27, 26]])"
      ]
     },
     "execution_count": 420,
     "metadata": {},
     "output_type": "execute_result"
    }
   ],
   "source": [
    "np.dot(a,b)  # c#.   dot Net  矩阵的点乘，左边的行x右边的列"
   ]
  }
 ],
 "metadata": {
  "kernelspec": {
   "display_name": "Python 3 (ipykernel)",
   "language": "python",
   "name": "python3"
  },
  "language_info": {
   "codemirror_mode": {
    "name": "ipython",
    "version": 3
   },
   "file_extension": ".py",
   "mimetype": "text/x-python",
   "name": "python",
   "nbconvert_exporter": "python",
   "pygments_lexer": "ipython3",
   "version": "3.9.2"
  }
 },
 "nbformat": 4,
 "nbformat_minor": 5
}
